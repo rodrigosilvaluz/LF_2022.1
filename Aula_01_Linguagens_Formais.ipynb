{
  "nbformat": 4,
  "nbformat_minor": 0,
  "metadata": {
    "colab": {
      "name": "Aula 01 - Linguagens Formais.ipynb",
      "provenance": [],
      "collapsed_sections": [
        "2cUYWeTsO_Jp",
        "VsuAmCO6Pwn6",
        "XJMOBFUKQ4RN",
        "pbdD78fV3Bta"
      ]
    },
    "kernelspec": {
      "name": "python3",
      "display_name": "Python 3"
    },
    "language_info": {
      "name": "python"
    }
  },
  "cells": [
    {
      "cell_type": "markdown",
      "source": [
        "# **Aula 01**\n",
        "\n",
        "**Disciplina: Linguagens Formais**\n",
        "\n",
        "**prof: Sérgio Assunção Monteiro, DSc**\n"
      ],
      "metadata": {
        "id": "wFHRB_gfR_SJ"
      }
    },
    {
      "cell_type": "markdown",
      "metadata": {
        "id": "OLuNWneIOuW1"
      },
      "source": [
        "**AFD**\n",
        "\n",
        "**biblioteca:** visual-automata\n",
        "**url:** https://github.com/lewiuberg/visual-automata\n"
      ]
    },
    {
      "cell_type": "markdown",
      "metadata": {
        "id": "2cUYWeTsO_Jp"
      },
      "source": [
        "# **instalação**"
      ]
    },
    {
      "cell_type": "code",
      "metadata": {
        "colab": {
          "base_uri": "https://localhost:8080/"
        },
        "id": "1FB0yaeQO-SR",
        "outputId": "78447cca-e34e-4044-a63e-646e5dbec868"
      },
      "source": [
        "pip install automata-lib"
      ],
      "execution_count": null,
      "outputs": [
        {
          "output_type": "stream",
          "name": "stdout",
          "text": [
            "Collecting automata-lib\n",
            "  Downloading automata_lib-5.0.0-py3-none-any.whl (32 kB)\n",
            "Requirement already satisfied: pydot in /usr/local/lib/python3.7/dist-packages (from automata-lib) (1.3.0)\n",
            "Requirement already satisfied: pyparsing>=2.1.4 in /usr/local/lib/python3.7/dist-packages (from pydot->automata-lib) (2.4.7)\n",
            "Installing collected packages: automata-lib\n",
            "Successfully installed automata-lib-5.0.0\n"
          ]
        }
      ]
    },
    {
      "cell_type": "code",
      "metadata": {
        "colab": {
          "base_uri": "https://localhost:8080/"
        },
        "id": "3vJDu3iwO-PQ",
        "outputId": "53eb1f1f-9e4b-49e4-f6be-c3d7ff59f9c7"
      },
      "source": [
        "pip install pandas"
      ],
      "execution_count": null,
      "outputs": [
        {
          "output_type": "stream",
          "name": "stdout",
          "text": [
            "Requirement already satisfied: pandas in /usr/local/lib/python3.7/dist-packages (1.1.5)\n",
            "Requirement already satisfied: numpy>=1.15.4 in /usr/local/lib/python3.7/dist-packages (from pandas) (1.19.5)\n",
            "Requirement already satisfied: python-dateutil>=2.7.3 in /usr/local/lib/python3.7/dist-packages (from pandas) (2.8.2)\n",
            "Requirement already satisfied: pytz>=2017.2 in /usr/local/lib/python3.7/dist-packages (from pandas) (2018.9)\n",
            "Requirement already satisfied: six>=1.5 in /usr/local/lib/python3.7/dist-packages (from python-dateutil>=2.7.3->pandas) (1.15.0)\n"
          ]
        }
      ]
    },
    {
      "cell_type": "code",
      "metadata": {
        "colab": {
          "base_uri": "https://localhost:8080/"
        },
        "id": "Rj2VFuJiO-Lr",
        "outputId": "fe1ec6ca-2e81-473f-ed4e-890b3898a766"
      },
      "source": [
        "pip install graphviz"
      ],
      "execution_count": null,
      "outputs": [
        {
          "output_type": "stream",
          "name": "stdout",
          "text": [
            "Requirement already satisfied: graphviz in /usr/local/lib/python3.7/dist-packages (0.10.1)\n"
          ]
        }
      ]
    },
    {
      "cell_type": "code",
      "metadata": {
        "colab": {
          "base_uri": "https://localhost:8080/"
        },
        "id": "CrLy8x3GO-IN",
        "outputId": "8ab38f6c-848c-4538-ddc2-afbe70126e7a"
      },
      "source": [
        "pip install colormath"
      ],
      "execution_count": null,
      "outputs": [
        {
          "output_type": "stream",
          "name": "stdout",
          "text": [
            "Collecting colormath\n",
            "  Downloading colormath-3.0.0.tar.gz (39 kB)\n",
            "Requirement already satisfied: numpy in /usr/local/lib/python3.7/dist-packages (from colormath) (1.19.5)\n",
            "Requirement already satisfied: networkx>=2.0 in /usr/local/lib/python3.7/dist-packages (from colormath) (2.6.2)\n",
            "Building wheels for collected packages: colormath\n",
            "  Building wheel for colormath (setup.py) ... \u001b[?25l\u001b[?25hdone\n",
            "  Created wheel for colormath: filename=colormath-3.0.0-py3-none-any.whl size=39408 sha256=bf511019879299b2f6a048c16c550c42002eb96a8a947133a09035dbbe29c3d9\n",
            "  Stored in directory: /root/.cache/pip/wheels/1a/d7/a7/458a4632ccc8bfe436f5e9db9fef1aa84e5d243a1b4b4c7b59\n",
            "Successfully built colormath\n",
            "Installing collected packages: colormath\n",
            "Successfully installed colormath-3.0.0\n"
          ]
        }
      ]
    },
    {
      "cell_type": "code",
      "metadata": {
        "colab": {
          "base_uri": "https://localhost:8080/"
        },
        "id": "fclsJzhGO-E0",
        "outputId": "4d0f17ef-934d-4106-afb9-8efac649cc41"
      },
      "source": [
        "pip install visual-automata"
      ],
      "execution_count": null,
      "outputs": [
        {
          "output_type": "stream",
          "name": "stdout",
          "text": [
            "Collecting visual-automata\n",
            "  Downloading visual_automata-1.1.1-py3-none-any.whl (15 kB)\n",
            "Collecting forbiddenfruit\n",
            "  Downloading forbiddenfruit-0.1.4.tar.gz (43 kB)\n",
            "\u001b[K     |████████████████████████████████| 43 kB 1.7 MB/s \n",
            "\u001b[?25hRequirement already satisfied: colormath in /usr/local/lib/python3.7/dist-packages (from visual-automata) (3.0.0)\n",
            "Requirement already satisfied: automata-lib in /usr/local/lib/python3.7/dist-packages (from visual-automata) (5.0.0)\n",
            "Collecting jupyterlab\n",
            "  Downloading jupyterlab-3.1.10-py3-none-any.whl (8.5 MB)\n",
            "\u001b[K     |████████████████████████████████| 8.5 MB 4.3 MB/s \n",
            "\u001b[?25hRequirement already satisfied: pandas in /usr/local/lib/python3.7/dist-packages (from visual-automata) (1.1.5)\n",
            "Requirement already satisfied: graphviz in /usr/local/lib/python3.7/dist-packages (from visual-automata) (0.10.1)\n",
            "Requirement already satisfied: pydot in /usr/local/lib/python3.7/dist-packages (from automata-lib->visual-automata) (1.3.0)\n",
            "Requirement already satisfied: networkx>=2.0 in /usr/local/lib/python3.7/dist-packages (from colormath->visual-automata) (2.6.2)\n",
            "Requirement already satisfied: numpy in /usr/local/lib/python3.7/dist-packages (from colormath->visual-automata) (1.19.5)\n",
            "Collecting nbclassic~=0.2\n",
            "  Downloading nbclassic-0.3.1-py3-none-any.whl (18 kB)\n",
            "Requirement already satisfied: jinja2>=2.1 in /usr/local/lib/python3.7/dist-packages (from jupyterlab->visual-automata) (2.11.3)\n",
            "Requirement already satisfied: jupyter-core in /usr/local/lib/python3.7/dist-packages (from jupyterlab->visual-automata) (4.7.1)\n",
            "Collecting jupyterlab-server~=2.3\n",
            "  Downloading jupyterlab_server-2.7.2-py3-none-any.whl (55 kB)\n",
            "\u001b[K     |████████████████████████████████| 55 kB 3.7 MB/s \n",
            "\u001b[?25hCollecting jupyter-server~=1.4\n",
            "  Downloading jupyter_server-1.10.2-py3-none-any.whl (392 kB)\n",
            "\u001b[K     |████████████████████████████████| 392 kB 58.1 MB/s \n",
            "\u001b[?25hRequirement already satisfied: ipython in /usr/local/lib/python3.7/dist-packages (from jupyterlab->visual-automata) (5.5.0)\n",
            "Requirement already satisfied: packaging in /usr/local/lib/python3.7/dist-packages (from jupyterlab->visual-automata) (21.0)\n",
            "Collecting tornado>=6.1.0\n",
            "  Downloading tornado-6.1-cp37-cp37m-manylinux2010_x86_64.whl (428 kB)\n",
            "\u001b[K     |████████████████████████████████| 428 kB 52.8 MB/s \n",
            "\u001b[?25hRequirement already satisfied: MarkupSafe>=0.23 in /usr/local/lib/python3.7/dist-packages (from jinja2>=2.1->jupyterlab->visual-automata) (2.0.1)\n",
            "Requirement already satisfied: argon2-cffi in /usr/local/lib/python3.7/dist-packages (from jupyter-server~=1.4->jupyterlab->visual-automata) (21.1.0)\n",
            "Requirement already satisfied: prometheus-client in /usr/local/lib/python3.7/dist-packages (from jupyter-server~=1.4->jupyterlab->visual-automata) (0.11.0)\n",
            "Collecting jupyter-client>=6.1.1\n",
            "  Downloading jupyter_client-7.0.2-py3-none-any.whl (122 kB)\n",
            "\u001b[K     |████████████████████████████████| 122 kB 57.0 MB/s \n",
            "\u001b[?25hRequirement already satisfied: terminado>=0.8.3 in /usr/local/lib/python3.7/dist-packages (from jupyter-server~=1.4->jupyterlab->visual-automata) (0.11.0)\n",
            "Requirement already satisfied: nbconvert in /usr/local/lib/python3.7/dist-packages (from jupyter-server~=1.4->jupyterlab->visual-automata) (5.6.1)\n",
            "Requirement already satisfied: ipython-genutils in /usr/local/lib/python3.7/dist-packages (from jupyter-server~=1.4->jupyterlab->visual-automata) (0.2.0)\n",
            "Requirement already satisfied: Send2Trash in /usr/local/lib/python3.7/dist-packages (from jupyter-server~=1.4->jupyterlab->visual-automata) (1.8.0)\n",
            "Collecting websocket-client\n",
            "  Downloading websocket_client-1.2.1-py2.py3-none-any.whl (52 kB)\n",
            "\u001b[K     |████████████████████████████████| 52 kB 1.5 MB/s \n",
            "\u001b[?25hCollecting requests-unixsocket\n",
            "  Downloading requests_unixsocket-0.2.0-py2.py3-none-any.whl (11 kB)\n",
            "Requirement already satisfied: traitlets>=4.2.1 in /usr/local/lib/python3.7/dist-packages (from jupyter-server~=1.4->jupyterlab->visual-automata) (5.0.5)\n",
            "Collecting anyio<4,>=3.1.0\n",
            "  Downloading anyio-3.3.0-py3-none-any.whl (77 kB)\n",
            "\u001b[K     |████████████████████████████████| 77 kB 6.4 MB/s \n",
            "\u001b[?25hRequirement already satisfied: nbformat in /usr/local/lib/python3.7/dist-packages (from jupyter-server~=1.4->jupyterlab->visual-automata) (5.1.3)\n",
            "Requirement already satisfied: pyzmq>=17 in /usr/local/lib/python3.7/dist-packages (from jupyter-server~=1.4->jupyterlab->visual-automata) (22.2.1)\n",
            "Requirement already satisfied: typing-extensions in /usr/local/lib/python3.7/dist-packages (from anyio<4,>=3.1.0->jupyter-server~=1.4->jupyterlab->visual-automata) (3.7.4.3)\n",
            "Requirement already satisfied: idna>=2.8 in /usr/local/lib/python3.7/dist-packages (from anyio<4,>=3.1.0->jupyter-server~=1.4->jupyterlab->visual-automata) (2.10)\n",
            "Collecting sniffio>=1.1\n",
            "  Downloading sniffio-1.2.0-py3-none-any.whl (10 kB)\n",
            "Requirement already satisfied: nest-asyncio>=1.5 in /usr/local/lib/python3.7/dist-packages (from jupyter-client>=6.1.1->jupyter-server~=1.4->jupyterlab->visual-automata) (1.5.1)\n",
            "Requirement already satisfied: entrypoints in /usr/local/lib/python3.7/dist-packages (from jupyter-client>=6.1.1->jupyter-server~=1.4->jupyterlab->visual-automata) (0.3)\n",
            "Requirement already satisfied: python-dateutil>=2.1 in /usr/local/lib/python3.7/dist-packages (from jupyter-client>=6.1.1->jupyter-server~=1.4->jupyterlab->visual-automata) (2.8.2)\n",
            "Requirement already satisfied: requests in /usr/local/lib/python3.7/dist-packages (from jupyterlab-server~=2.3->jupyterlab->visual-automata) (2.23.0)\n",
            "Requirement already satisfied: babel in /usr/local/lib/python3.7/dist-packages (from jupyterlab-server~=2.3->jupyterlab->visual-automata) (2.9.1)\n",
            "Collecting jsonschema>=3.0.1\n",
            "  Downloading jsonschema-3.2.0-py2.py3-none-any.whl (56 kB)\n",
            "\u001b[K     |████████████████████████████████| 56 kB 4.2 MB/s \n",
            "\u001b[?25hCollecting json5\n",
            "  Downloading json5-0.9.6-py2.py3-none-any.whl (18 kB)\n",
            "Requirement already satisfied: attrs>=17.4.0 in /usr/local/lib/python3.7/dist-packages (from jsonschema>=3.0.1->jupyterlab-server~=2.3->jupyterlab->visual-automata) (21.2.0)\n",
            "Requirement already satisfied: importlib-metadata in /usr/local/lib/python3.7/dist-packages (from jsonschema>=3.0.1->jupyterlab-server~=2.3->jupyterlab->visual-automata) (4.6.4)\n",
            "Requirement already satisfied: pyrsistent>=0.14.0 in /usr/local/lib/python3.7/dist-packages (from jsonschema>=3.0.1->jupyterlab-server~=2.3->jupyterlab->visual-automata) (0.18.0)\n",
            "Requirement already satisfied: six>=1.11.0 in /usr/local/lib/python3.7/dist-packages (from jsonschema>=3.0.1->jupyterlab-server~=2.3->jupyterlab->visual-automata) (1.15.0)\n",
            "Requirement already satisfied: setuptools in /usr/local/lib/python3.7/dist-packages (from jsonschema>=3.0.1->jupyterlab-server~=2.3->jupyterlab->visual-automata) (57.4.0)\n",
            "Requirement already satisfied: notebook<7 in /usr/local/lib/python3.7/dist-packages (from nbclassic~=0.2->jupyterlab->visual-automata) (5.3.1)\n",
            "Requirement already satisfied: ipykernel in /usr/local/lib/python3.7/dist-packages (from notebook<7->nbclassic~=0.2->jupyterlab->visual-automata) (4.10.1)\n",
            "Requirement already satisfied: ptyprocess in /usr/local/lib/python3.7/dist-packages (from terminado>=0.8.3->jupyter-server~=1.4->jupyterlab->visual-automata) (0.7.0)\n",
            "Requirement already satisfied: cffi>=1.0.0 in /usr/local/lib/python3.7/dist-packages (from argon2-cffi->jupyter-server~=1.4->jupyterlab->visual-automata) (1.14.6)\n",
            "Requirement already satisfied: pycparser in /usr/local/lib/python3.7/dist-packages (from cffi>=1.0.0->argon2-cffi->jupyter-server~=1.4->jupyterlab->visual-automata) (2.20)\n",
            "Requirement already satisfied: pytz>=2015.7 in /usr/local/lib/python3.7/dist-packages (from babel->jupyterlab-server~=2.3->jupyterlab->visual-automata) (2018.9)\n",
            "Requirement already satisfied: zipp>=0.5 in /usr/local/lib/python3.7/dist-packages (from importlib-metadata->jsonschema>=3.0.1->jupyterlab-server~=2.3->jupyterlab->visual-automata) (3.5.0)\n",
            "Requirement already satisfied: pickleshare in /usr/local/lib/python3.7/dist-packages (from ipython->jupyterlab->visual-automata) (0.7.5)\n",
            "Requirement already satisfied: pygments in /usr/local/lib/python3.7/dist-packages (from ipython->jupyterlab->visual-automata) (2.6.1)\n",
            "Requirement already satisfied: prompt-toolkit<2.0.0,>=1.0.4 in /usr/local/lib/python3.7/dist-packages (from ipython->jupyterlab->visual-automata) (1.0.18)\n",
            "Requirement already satisfied: decorator in /usr/local/lib/python3.7/dist-packages (from ipython->jupyterlab->visual-automata) (4.4.2)\n",
            "Requirement already satisfied: pexpect in /usr/local/lib/python3.7/dist-packages (from ipython->jupyterlab->visual-automata) (4.8.0)\n",
            "Requirement already satisfied: simplegeneric>0.8 in /usr/local/lib/python3.7/dist-packages (from ipython->jupyterlab->visual-automata) (0.8.1)\n",
            "Requirement already satisfied: wcwidth in /usr/local/lib/python3.7/dist-packages (from prompt-toolkit<2.0.0,>=1.0.4->ipython->jupyterlab->visual-automata) (0.2.5)\n",
            "Requirement already satisfied: defusedxml in /usr/local/lib/python3.7/dist-packages (from nbconvert->jupyter-server~=1.4->jupyterlab->visual-automata) (0.7.1)\n",
            "Requirement already satisfied: mistune<2,>=0.8.1 in /usr/local/lib/python3.7/dist-packages (from nbconvert->jupyter-server~=1.4->jupyterlab->visual-automata) (0.8.4)\n",
            "Requirement already satisfied: pandocfilters>=1.4.1 in /usr/local/lib/python3.7/dist-packages (from nbconvert->jupyter-server~=1.4->jupyterlab->visual-automata) (1.4.3)\n",
            "Requirement already satisfied: bleach in /usr/local/lib/python3.7/dist-packages (from nbconvert->jupyter-server~=1.4->jupyterlab->visual-automata) (4.0.0)\n",
            "Requirement already satisfied: testpath in /usr/local/lib/python3.7/dist-packages (from nbconvert->jupyter-server~=1.4->jupyterlab->visual-automata) (0.5.0)\n",
            "Requirement already satisfied: webencodings in /usr/local/lib/python3.7/dist-packages (from bleach->nbconvert->jupyter-server~=1.4->jupyterlab->visual-automata) (0.5.1)\n",
            "Requirement already satisfied: pyparsing>=2.0.2 in /usr/local/lib/python3.7/dist-packages (from packaging->jupyterlab->visual-automata) (2.4.7)\n",
            "Requirement already satisfied: chardet<4,>=3.0.2 in /usr/local/lib/python3.7/dist-packages (from requests->jupyterlab-server~=2.3->jupyterlab->visual-automata) (3.0.4)\n",
            "Requirement already satisfied: certifi>=2017.4.17 in /usr/local/lib/python3.7/dist-packages (from requests->jupyterlab-server~=2.3->jupyterlab->visual-automata) (2021.5.30)\n",
            "Requirement already satisfied: urllib3!=1.25.0,!=1.25.1,<1.26,>=1.21.1 in /usr/local/lib/python3.7/dist-packages (from requests->jupyterlab-server~=2.3->jupyterlab->visual-automata) (1.24.3)\n",
            "Building wheels for collected packages: forbiddenfruit\n",
            "  Building wheel for forbiddenfruit (setup.py) ... \u001b[?25l\u001b[?25hdone\n",
            "  Created wheel for forbiddenfruit: filename=forbiddenfruit-0.1.4-py3-none-any.whl size=21810 sha256=93877c7f64a2d8f0a3b7b9d0698a4065c006620c2f8accebc0f17889b623e1b3\n",
            "  Stored in directory: /root/.cache/pip/wheels/ab/b1/d4/d715c0964da2cbf9f773760b9cf9352405eb4e6a988ffd2606\n",
            "Successfully built forbiddenfruit\n",
            "Installing collected packages: tornado, jsonschema, sniffio, jupyter-client, websocket-client, requests-unixsocket, anyio, jupyter-server, json5, nbclassic, jupyterlab-server, jupyterlab, forbiddenfruit, visual-automata\n",
            "  Attempting uninstall: tornado\n",
            "    Found existing installation: tornado 5.1.1\n",
            "    Uninstalling tornado-5.1.1:\n",
            "      Successfully uninstalled tornado-5.1.1\n",
            "  Attempting uninstall: jsonschema\n",
            "    Found existing installation: jsonschema 2.6.0\n",
            "    Uninstalling jsonschema-2.6.0:\n",
            "      Successfully uninstalled jsonschema-2.6.0\n",
            "  Attempting uninstall: jupyter-client\n",
            "    Found existing installation: jupyter-client 5.3.5\n",
            "    Uninstalling jupyter-client-5.3.5:\n",
            "      Successfully uninstalled jupyter-client-5.3.5\n",
            "\u001b[31mERROR: pip's dependency resolver does not currently take into account all the packages that are installed. This behaviour is the source of the following dependency conflicts.\n",
            "google-colab 1.0.0 requires tornado~=5.1.0; python_version >= \"3.0\", but you have tornado 6.1 which is incompatible.\u001b[0m\n",
            "Successfully installed anyio-3.3.0 forbiddenfruit-0.1.4 json5-0.9.6 jsonschema-3.2.0 jupyter-client-7.0.2 jupyter-server-1.10.2 jupyterlab-3.1.10 jupyterlab-server-2.7.2 nbclassic-0.3.1 requests-unixsocket-0.2.0 sniffio-1.2.0 tornado-6.1 visual-automata-1.1.1 websocket-client-1.2.1\n"
          ]
        },
        {
          "output_type": "display_data",
          "data": {
            "application/vnd.colab-display-data+json": {
              "pip_warning": {
                "packages": [
                  "jupyter_client",
                  "tornado"
                ]
              }
            }
          },
          "metadata": {}
        }
      ]
    },
    {
      "cell_type": "markdown",
      "metadata": {
        "id": "VsuAmCO6Pwn6"
      },
      "source": [
        "# **Exemplo de AFD**"
      ]
    },
    {
      "cell_type": "code",
      "metadata": {
        "id": "HQpPUVgwO-BZ"
      },
      "source": [
        "from visual_automata.fa.dfa import VisualDFA"
      ],
      "execution_count": null,
      "outputs": []
    },
    {
      "cell_type": "code",
      "metadata": {
        "id": "gAUedrm2O90z"
      },
      "source": [
        "dfa = VisualDFA(\n",
        "    states={\"q0\", \"q1\", \"q2\", \"q3\", \"q4\"},\n",
        "    input_symbols={\"0\", \"1\"},\n",
        "    transitions={\n",
        "        \"q0\": {\"0\": \"q3\", \"1\": \"q1\"},\n",
        "        \"q1\": {\"0\": \"q3\", \"1\": \"q2\"},\n",
        "        \"q2\": {\"0\": \"q3\", \"1\": \"q2\"},\n",
        "        \"q3\": {\"0\": \"q4\", \"1\": \"q1\"},\n",
        "        \"q4\": {\"0\": \"q4\", \"1\": \"q1\"},\n",
        "    },\n",
        "    initial_state=\"q0\",\n",
        "    final_states={\"q2\", \"q4\"},\n",
        ")"
      ],
      "execution_count": null,
      "outputs": []
    },
    {
      "cell_type": "code",
      "metadata": {
        "colab": {
          "base_uri": "https://localhost:8080/"
        },
        "id": "dvL3puBNP3qw",
        "outputId": "56b71e06-dda1-46e8-c73c-cd554bd8ba68"
      },
      "source": [
        "dfa.table"
      ],
      "execution_count": null,
      "outputs": [
        {
          "output_type": "execute_result",
          "data": {
            "text/html": [
              "<div>\n",
              "<style scoped>\n",
              "    .dataframe tbody tr th:only-of-type {\n",
              "        vertical-align: middle;\n",
              "    }\n",
              "\n",
              "    .dataframe tbody tr th {\n",
              "        vertical-align: top;\n",
              "    }\n",
              "\n",
              "    .dataframe thead th {\n",
              "        text-align: right;\n",
              "    }\n",
              "</style>\n",
              "<table border=\"1\" class=\"dataframe\">\n",
              "  <thead>\n",
              "    <tr style=\"text-align: right;\">\n",
              "      <th></th>\n",
              "      <th>0</th>\n",
              "      <th>1</th>\n",
              "    </tr>\n",
              "  </thead>\n",
              "  <tbody>\n",
              "    <tr>\n",
              "      <th>→q0</th>\n",
              "      <td>q3</td>\n",
              "      <td>q1</td>\n",
              "    </tr>\n",
              "    <tr>\n",
              "      <th>q1</th>\n",
              "      <td>q3</td>\n",
              "      <td>*q2</td>\n",
              "    </tr>\n",
              "    <tr>\n",
              "      <th>*q2</th>\n",
              "      <td>q3</td>\n",
              "      <td>*q2</td>\n",
              "    </tr>\n",
              "    <tr>\n",
              "      <th>q3</th>\n",
              "      <td>*q4</td>\n",
              "      <td>q1</td>\n",
              "    </tr>\n",
              "    <tr>\n",
              "      <th>*q4</th>\n",
              "      <td>*q4</td>\n",
              "      <td>q1</td>\n",
              "    </tr>\n",
              "  </tbody>\n",
              "</table>\n",
              "</div>"
            ],
            "text/plain": [
              "       0    1\n",
              "→q0   q3   q1\n",
              "q1    q3  *q2\n",
              "*q2   q3  *q2\n",
              "q3   *q4   q1\n",
              "*q4  *q4   q1"
            ]
          },
          "metadata": {},
          "execution_count": 8
        }
      ]
    },
    {
      "cell_type": "code",
      "metadata": {
        "colab": {
          "base_uri": "https://localhost:8080/",
          "height": 392
        },
        "id": "ZYewkal_P8uX",
        "outputId": "6672324f-6834-42f4-cf7e-2b08f3116904"
      },
      "source": [
        "dfa.show_diagram()"
      ],
      "execution_count": null,
      "outputs": [
        {
          "output_type": "execute_result",
          "data": {
            "text/plain": [
              "<graphviz.dot.Digraph at 0x7fc91737e290>"
            ],
            "image/svg+xml": "<?xml version=\"1.0\" encoding=\"UTF-8\" standalone=\"no\"?>\n<!DOCTYPE svg PUBLIC \"-//W3C//DTD SVG 1.1//EN\"\n \"http://www.w3.org/Graphics/SVG/1.1/DTD/svg11.dtd\">\n<!-- Generated by graphviz version 2.40.1 (20161225.0304)\n -->\n<!-- Title: %3 Pages: 1 -->\n<svg width=\"481pt\" height=\"263pt\"\n viewBox=\"0.00 0.00 480.58 262.80\" xmlns=\"http://www.w3.org/2000/svg\" xmlns:xlink=\"http://www.w3.org/1999/xlink\">\n<g id=\"graph0\" class=\"graph\" transform=\"scale(1 1) rotate(0) translate(4 258.7982)\">\n<title>%3</title>\n<polygon fill=\"#ffffff\" stroke=\"transparent\" points=\"-4,4 -4,-258.7982 476.5815,-258.7982 476.5815,4 -4,4\"/>\n<!-- Initial -->\n<g id=\"node1\" class=\"node\">\n<title>Initial</title>\n<ellipse fill=\"#000000\" stroke=\"#000000\" cx=\"1.8\" cy=\"-20.7982\" rx=\"1.8\" ry=\"1.8\"/>\n</g>\n<!-- q0 -->\n<g id=\"node2\" class=\"node\">\n<title>q0</title>\n<ellipse fill=\"none\" stroke=\"#000000\" cx=\"61.3982\" cy=\"-20.7982\" rx=\"20.5982\" ry=\"20.5982\"/>\n<text text-anchor=\"middle\" x=\"61.3982\" y=\"-17.0982\" font-family=\"Times,serif\" font-size=\"14.00\" fill=\"#000000\">q0</text>\n</g>\n<!-- Initial&#45;&gt;q0 -->\n<g id=\"edge1\" class=\"edge\">\n<title>Initial&#45;&gt;q0</title>\n<path fill=\"none\" stroke=\"#000000\" d=\"M3.7829,-20.7982C8.3217,-20.7982 19.9751,-20.7982 31.6235,-20.7982\"/>\n<polygon fill=\"#000000\" stroke=\"#000000\" points=\"31.9123,-23.7733 40.4123,-20.7982 31.9122,-17.8233 31.9123,-23.7733\"/>\n</g>\n<!-- q1 -->\n<g id=\"node3\" class=\"node\">\n<title>q1</title>\n<ellipse fill=\"none\" stroke=\"#000000\" cx=\"154.9945\" cy=\"-101.7982\" rx=\"20.5982\" ry=\"20.5982\"/>\n<text text-anchor=\"middle\" x=\"154.9945\" y=\"-98.0982\" font-family=\"Times,serif\" font-size=\"14.00\" fill=\"#000000\">q1</text>\n</g>\n<!-- q0&#45;&gt;q1 -->\n<g id=\"edge3\" class=\"edge\">\n<title>q0&#45;&gt;q1</title>\n<path fill=\"none\" stroke=\"#000000\" d=\"M77.2755,-34.5387C92.4698,-47.6881 115.5353,-67.6495 132.5954,-82.4135\"/>\n<polygon fill=\"#000000\" stroke=\"#000000\" points=\"130.6651,-84.6774 139.0392,-87.9902 134.5587,-80.1783 130.6651,-84.6774\"/>\n<text text-anchor=\"middle\" x=\"108.1963\" y=\"-69.5982\" font-family=\"Times,serif\" font-size=\"14.00\" fill=\"#000000\"> 1 </text>\n</g>\n<!-- q3 -->\n<g id=\"node5\" class=\"node\">\n<title>q3</title>\n<ellipse fill=\"none\" stroke=\"#000000\" cx=\"350.1871\" cy=\"-101.7982\" rx=\"20.5982\" ry=\"20.5982\"/>\n<text text-anchor=\"middle\" x=\"350.1871\" y=\"-98.0982\" font-family=\"Times,serif\" font-size=\"14.00\" fill=\"#000000\">q3</text>\n</g>\n<!-- q0&#45;&gt;q3 -->\n<g id=\"edge2\" class=\"edge\">\n<title>q0&#45;&gt;q3</title>\n<path fill=\"none\" stroke=\"#000000\" d=\"M81.9764,-24.1155C125.3501,-31.4741 228.949,-50.9888 311.3889,-81.7982 315.6281,-83.3824 320.0008,-85.3159 324.214,-87.3494\"/>\n<polygon fill=\"#000000\" stroke=\"#000000\" points=\"323.1159,-90.1282 332.0426,-91.3179 325.8062,-84.8211 323.1159,-90.1282\"/>\n<text text-anchor=\"middle\" x=\"201.7926\" y=\"-53.5982\" font-family=\"Times,serif\" font-size=\"14.00\" fill=\"#000000\"> 0 </text>\n</g>\n<!-- q2 -->\n<g id=\"node4\" class=\"node\">\n<title>q2</title>\n<ellipse fill=\"none\" stroke=\"#000000\" cx=\"252.5908\" cy=\"-159.7982\" rx=\"20.6302\" ry=\"20.6302\"/>\n<ellipse fill=\"none\" stroke=\"#000000\" cx=\"252.5908\" cy=\"-159.7982\" rx=\"24.5979\" ry=\"24.5979\"/>\n<text text-anchor=\"middle\" x=\"252.5908\" y=\"-156.0982\" font-family=\"Times,serif\" font-size=\"14.00\" fill=\"#000000\">q2</text>\n</g>\n<!-- q1&#45;&gt;q2 -->\n<g id=\"edge5\" class=\"edge\">\n<title>q1&#45;&gt;q2</title>\n<path fill=\"none\" stroke=\"#000000\" d=\"M172.8951,-112.4362C186.9879,-120.8114 206.9212,-132.6575 223.3267,-142.407\"/>\n<polygon fill=\"#000000\" stroke=\"#000000\" points=\"222.2289,-145.2152 231.0558,-147.0003 225.2686,-140.1003 222.2289,-145.2152\"/>\n<text text-anchor=\"middle\" x=\"201.7926\" y=\"-137.5982\" font-family=\"Times,serif\" font-size=\"14.00\" fill=\"#000000\"> 1 </text>\n</g>\n<!-- q1&#45;&gt;q3 -->\n<g id=\"edge4\" class=\"edge\">\n<title>q1&#45;&gt;q3</title>\n<path fill=\"none\" stroke=\"#000000\" d=\"M175.8835,-101.7982C210.7196,-101.7982 280.779,-101.7982 320.6526,-101.7982\"/>\n<polygon fill=\"#000000\" stroke=\"#000000\" points=\"320.6533,-104.7733 329.1532,-101.7982 320.6532,-98.8233 320.6533,-104.7733\"/>\n<text text-anchor=\"middle\" x=\"252.5908\" y=\"-105.5982\" font-family=\"Times,serif\" font-size=\"14.00\" fill=\"#000000\"> 0 </text>\n</g>\n<!-- q2&#45;&gt;q2 -->\n<g id=\"edge7\" class=\"edge\">\n<title>q2&#45;&gt;q2</title>\n<path fill=\"none\" stroke=\"#000000\" d=\"M243.3623,-183.1303C242.4834,-193.5686 245.5595,-202.5963 252.5908,-202.5963 257.5346,-202.5963 260.5231,-198.1331 261.5563,-191.8546\"/>\n<polygon fill=\"#000000\" stroke=\"#000000\" points=\"264.5368,-191.7161 261.8193,-183.1303 258.5895,-191.5367 264.5368,-191.7161\"/>\n<text text-anchor=\"middle\" x=\"252.5908\" y=\"-206.3963\" font-family=\"Times,serif\" font-size=\"14.00\" fill=\"#000000\"> 1 </text>\n</g>\n<!-- q2&#45;&gt;q3 -->\n<g id=\"edge6\" class=\"edge\">\n<title>q2&#45;&gt;q3</title>\n<path fill=\"none\" stroke=\"#000000\" d=\"M274.2506,-146.9261C289.2113,-138.0351 309.162,-126.1787 324.8595,-116.85\"/>\n<polygon fill=\"#000000\" stroke=\"#000000\" points=\"326.3962,-119.3975 332.1834,-112.4975 323.3564,-114.2825 326.3962,-119.3975\"/>\n<text text-anchor=\"middle\" x=\"303.3889\" y=\"-137.5982\" font-family=\"Times,serif\" font-size=\"14.00\" fill=\"#000000\"> 0 </text>\n</g>\n<!-- q3&#45;&gt;q1 -->\n<g id=\"edge9\" class=\"edge\">\n<title>q3&#45;&gt;q1</title>\n<path fill=\"none\" stroke=\"#000000\" d=\"M330.3731,-95.1598C315.8852,-90.6685 295.6564,-85.1428 277.3889,-82.7982 255.5255,-79.992 249.6561,-79.992 227.7926,-82.7982 212.8076,-84.7215 196.5028,-88.7854 183.1297,-92.663\"/>\n<polygon fill=\"#000000\" stroke=\"#000000\" points=\"182.0948,-89.8674 174.8084,-95.1598 183.8049,-95.5664 182.0948,-89.8674\"/>\n<text text-anchor=\"middle\" x=\"252.5908\" y=\"-86.5982\" font-family=\"Times,serif\" font-size=\"14.00\" fill=\"#000000\"> 1 </text>\n</g>\n<!-- q4 -->\n<g id=\"node6\" class=\"node\">\n<title>q4</title>\n<ellipse fill=\"none\" stroke=\"#000000\" cx=\"447.7834\" cy=\"-173.7982\" rx=\"20.6302\" ry=\"20.6302\"/>\n<ellipse fill=\"none\" stroke=\"#000000\" cx=\"447.7834\" cy=\"-173.7982\" rx=\"24.5979\" ry=\"24.5979\"/>\n<text text-anchor=\"middle\" x=\"447.7834\" y=\"-170.0982\" font-family=\"Times,serif\" font-size=\"14.00\" fill=\"#000000\">q4</text>\n</g>\n<!-- q3&#45;&gt;q4 -->\n<g id=\"edge8\" class=\"edge\">\n<title>q3&#45;&gt;q4</title>\n<path fill=\"none\" stroke=\"#000000\" d=\"M367.1871,-114.3396C381.9053,-125.1978 403.4594,-141.0989 420.5751,-153.7257\"/>\n<polygon fill=\"#000000\" stroke=\"#000000\" points=\"418.9995,-156.2603 427.6058,-158.9125 422.5319,-151.4723 418.9995,-156.2603\"/>\n<text text-anchor=\"middle\" x=\"396.9852\" y=\"-145.5982\" font-family=\"Times,serif\" font-size=\"14.00\" fill=\"#000000\"> 0 </text>\n</g>\n<!-- q4&#45;&gt;q1 -->\n<g id=\"edge11\" class=\"edge\">\n<title>q4&#45;&gt;q1</title>\n<path fill=\"none\" stroke=\"#000000\" d=\"M427.2644,-188.098C386.6097,-214.5007 294.0379,-264.8787 227.7926,-226.7982 192.1232,-206.2939 172.2935,-160.8406 162.6383,-130.7681\"/>\n<polygon fill=\"#000000\" stroke=\"#000000\" points=\"165.3964,-129.6132 160.071,-122.3509 159.7052,-131.349 165.3964,-129.6132\"/>\n<text text-anchor=\"middle\" x=\"303.3889\" y=\"-243.5982\" font-family=\"Times,serif\" font-size=\"14.00\" fill=\"#000000\"> 1 </text>\n</g>\n<!-- q4&#45;&gt;q4 -->\n<g id=\"edge10\" class=\"edge\">\n<title>q4&#45;&gt;q4</title>\n<path fill=\"none\" stroke=\"#000000\" d=\"M438.5549,-197.1303C437.676,-207.5686 440.7521,-216.5963 447.7834,-216.5963 452.7272,-216.5963 455.7158,-212.1331 456.7489,-205.8546\"/>\n<polygon fill=\"#000000\" stroke=\"#000000\" points=\"459.7294,-205.7161 457.0119,-197.1303 453.7821,-205.5367 459.7294,-205.7161\"/>\n<text text-anchor=\"middle\" x=\"447.7834\" y=\"-220.3963\" font-family=\"Times,serif\" font-size=\"14.00\" fill=\"#000000\"> 0 </text>\n</g>\n</g>\n</svg>\n"
          },
          "metadata": {},
          "execution_count": 9
        }
      ]
    },
    {
      "cell_type": "markdown",
      "metadata": {
        "id": "VgTMKmcsQdqV"
      },
      "source": [
        "**Testar uma cadeia de entrada**"
      ]
    },
    {
      "cell_type": "code",
      "metadata": {
        "colab": {
          "base_uri": "https://localhost:8080/",
          "height": 243
        },
        "id": "eIGcXR1AQeb4",
        "outputId": "5eddcdd9-b81c-4155-fd55-c281db9f8f35"
      },
      "source": [
        "dfa.input_check(\"1001\") # exemplo de palavra rejeitada"
      ],
      "execution_count": null,
      "outputs": [
        {
          "output_type": "execute_result",
          "data": {
            "text/html": [
              "<div>\n",
              "<style scoped>\n",
              "    .dataframe tbody tr th:only-of-type {\n",
              "        vertical-align: middle;\n",
              "    }\n",
              "\n",
              "    .dataframe tbody tr th {\n",
              "        vertical-align: top;\n",
              "    }\n",
              "\n",
              "    .dataframe thead tr th {\n",
              "        text-align: left;\n",
              "    }\n",
              "</style>\n",
              "<table border=\"1\" class=\"dataframe\">\n",
              "  <thead>\n",
              "    <tr>\n",
              "      <th></th>\n",
              "      <th colspan=\"3\" halign=\"left\">[Rejected]</th>\n",
              "    </tr>\n",
              "    <tr>\n",
              "      <th>Step:</th>\n",
              "      <th>Current state:</th>\n",
              "      <th>Input symbol:</th>\n",
              "      <th>New state:</th>\n",
              "    </tr>\n",
              "  </thead>\n",
              "  <tbody>\n",
              "    <tr>\n",
              "      <th>1</th>\n",
              "      <td>→q0</td>\n",
              "      <td>1</td>\n",
              "      <td>q1</td>\n",
              "    </tr>\n",
              "    <tr>\n",
              "      <th>2</th>\n",
              "      <td>q1</td>\n",
              "      <td>0</td>\n",
              "      <td>q3</td>\n",
              "    </tr>\n",
              "    <tr>\n",
              "      <th>3</th>\n",
              "      <td>q3</td>\n",
              "      <td>0</td>\n",
              "      <td>*q4</td>\n",
              "    </tr>\n",
              "    <tr>\n",
              "      <th>4</th>\n",
              "      <td>*q4</td>\n",
              "      <td>1</td>\n",
              "      <td>q1</td>\n",
              "    </tr>\n",
              "  </tbody>\n",
              "</table>\n",
              "</div>"
            ],
            "text/plain": [
              "          [Rejected]                         \n",
              "Step: Current state: Input symbol: New state:\n",
              "1                →q0             1         q1\n",
              "2                 q1             0         q3\n",
              "3                 q3             0        *q4\n",
              "4                *q4             1         q1"
            ]
          },
          "metadata": {},
          "execution_count": 10
        }
      ]
    },
    {
      "cell_type": "code",
      "metadata": {
        "colab": {
          "base_uri": "https://localhost:8080/",
          "height": 237
        },
        "id": "1siyx9CbQfTI",
        "outputId": "07623e44-fc22-4da8-99ee-a74eb290efb3"
      },
      "source": [
        "dfa.input_check(\"10011\") # exemplo de palavra aceita"
      ],
      "execution_count": null,
      "outputs": [
        {
          "output_type": "execute_result",
          "data": {
            "text/html": [
              "<div>\n",
              "<style scoped>\n",
              "    .dataframe tbody tr th:only-of-type {\n",
              "        vertical-align: middle;\n",
              "    }\n",
              "\n",
              "    .dataframe tbody tr th {\n",
              "        vertical-align: top;\n",
              "    }\n",
              "\n",
              "    .dataframe thead tr th {\n",
              "        text-align: left;\n",
              "    }\n",
              "</style>\n",
              "<table border=\"1\" class=\"dataframe\">\n",
              "  <thead>\n",
              "    <tr>\n",
              "      <th></th>\n",
              "      <th colspan=\"3\" halign=\"left\">[Accepted]</th>\n",
              "    </tr>\n",
              "    <tr>\n",
              "      <th>Step:</th>\n",
              "      <th>Current state:</th>\n",
              "      <th>Input symbol:</th>\n",
              "      <th>New state:</th>\n",
              "    </tr>\n",
              "  </thead>\n",
              "  <tbody>\n",
              "    <tr>\n",
              "      <th>1</th>\n",
              "      <td>→q0</td>\n",
              "      <td>1</td>\n",
              "      <td>q1</td>\n",
              "    </tr>\n",
              "    <tr>\n",
              "      <th>2</th>\n",
              "      <td>q1</td>\n",
              "      <td>0</td>\n",
              "      <td>q3</td>\n",
              "    </tr>\n",
              "    <tr>\n",
              "      <th>3</th>\n",
              "      <td>q3</td>\n",
              "      <td>0</td>\n",
              "      <td>*q4</td>\n",
              "    </tr>\n",
              "    <tr>\n",
              "      <th>4</th>\n",
              "      <td>*q4</td>\n",
              "      <td>1</td>\n",
              "      <td>q1</td>\n",
              "    </tr>\n",
              "    <tr>\n",
              "      <th>5</th>\n",
              "      <td>q1</td>\n",
              "      <td>1</td>\n",
              "      <td>*q2</td>\n",
              "    </tr>\n",
              "  </tbody>\n",
              "</table>\n",
              "</div>"
            ],
            "text/plain": [
              "          [Accepted]                         \n",
              "Step: Current state: Input symbol: New state:\n",
              "1                →q0             1         q1\n",
              "2                 q1             0         q3\n",
              "3                 q3             0        *q4\n",
              "4                *q4             1         q1\n",
              "5                 q1             1        *q2"
            ]
          },
          "metadata": {},
          "execution_count": 11
        }
      ]
    },
    {
      "cell_type": "markdown",
      "metadata": {
        "id": "SuuMdjWMRNon"
      },
      "source": [
        "**Exibir Diagrama de palavra rejeitada**"
      ]
    },
    {
      "cell_type": "code",
      "metadata": {
        "colab": {
          "base_uri": "https://localhost:8080/",
          "height": 602
        },
        "id": "b1LZlNA6QfHg",
        "outputId": "e0e2813b-9f30-4155-ba31-109069d6b7e7"
      },
      "source": [
        "dfa.show_diagram(\"1001\")"
      ],
      "execution_count": null,
      "outputs": [
        {
          "output_type": "display_data",
          "data": {
            "text/html": [
              "<div>\n",
              "<style scoped>\n",
              "    .dataframe tbody tr th:only-of-type {\n",
              "        vertical-align: middle;\n",
              "    }\n",
              "\n",
              "    .dataframe tbody tr th {\n",
              "        vertical-align: top;\n",
              "    }\n",
              "\n",
              "    .dataframe thead tr th {\n",
              "        text-align: left;\n",
              "    }\n",
              "</style>\n",
              "<table border=\"1\" class=\"dataframe\">\n",
              "  <thead>\n",
              "    <tr>\n",
              "      <th></th>\n",
              "      <th colspan=\"3\" halign=\"left\">[Rejected]</th>\n",
              "    </tr>\n",
              "    <tr>\n",
              "      <th>Step:</th>\n",
              "      <th>Current state:</th>\n",
              "      <th>Input symbol:</th>\n",
              "      <th>New state:</th>\n",
              "    </tr>\n",
              "  </thead>\n",
              "  <tbody>\n",
              "    <tr>\n",
              "      <th>1</th>\n",
              "      <td>→q0</td>\n",
              "      <td>1</td>\n",
              "      <td>q1</td>\n",
              "    </tr>\n",
              "    <tr>\n",
              "      <th>2</th>\n",
              "      <td>q1</td>\n",
              "      <td>0</td>\n",
              "      <td>q3</td>\n",
              "    </tr>\n",
              "    <tr>\n",
              "      <th>3</th>\n",
              "      <td>q3</td>\n",
              "      <td>0</td>\n",
              "      <td>*q4</td>\n",
              "    </tr>\n",
              "    <tr>\n",
              "      <th>4</th>\n",
              "      <td>*q4</td>\n",
              "      <td>1</td>\n",
              "      <td>q1</td>\n",
              "    </tr>\n",
              "  </tbody>\n",
              "</table>\n",
              "</div>"
            ],
            "text/plain": [
              "          [Rejected]                         \n",
              "Step: Current state: Input symbol: New state:\n",
              "1                →q0             1         q1\n",
              "2                 q1             0         q3\n",
              "3                 q3             0        *q4\n",
              "4                *q4             1         q1"
            ]
          },
          "metadata": {}
        },
        {
          "output_type": "execute_result",
          "data": {
            "text/plain": [
              "<graphviz.dot.Digraph at 0x7fc917311e50>"
            ],
            "image/svg+xml": "<?xml version=\"1.0\" encoding=\"UTF-8\" standalone=\"no\"?>\n<!DOCTYPE svg PUBLIC \"-//W3C//DTD SVG 1.1//EN\"\n \"http://www.w3.org/Graphics/SVG/1.1/DTD/svg11.dtd\">\n<!-- Generated by graphviz version 2.40.1 (20161225.0304)\n -->\n<!-- Title: %3 Pages: 1 -->\n<svg width=\"496pt\" height=\"294pt\"\n viewBox=\"0.00 0.00 495.58 293.80\" xmlns=\"http://www.w3.org/2000/svg\" xmlns:xlink=\"http://www.w3.org/1999/xlink\">\n<g id=\"graph0\" class=\"graph\" transform=\"scale(1 1) rotate(0) translate(4 289.7982)\">\n<title>%3</title>\n<polygon fill=\"#ffffff\" stroke=\"transparent\" points=\"-4,4 -4,-289.7982 491.5815,-289.7982 491.5815,4 -4,4\"/>\n<!-- Initial -->\n<g id=\"node1\" class=\"node\">\n<title>Initial</title>\n<ellipse fill=\"#000000\" stroke=\"#000000\" cx=\"1.8\" cy=\"-20.7982\" rx=\"1.8\" ry=\"1.8\"/>\n</g>\n<!-- q0 -->\n<g id=\"node2\" class=\"node\">\n<title>q0</title>\n<ellipse fill=\"none\" stroke=\"#000000\" cx=\"61.3982\" cy=\"-20.7982\" rx=\"20.5982\" ry=\"20.5982\"/>\n<text text-anchor=\"middle\" x=\"61.3982\" y=\"-17.0982\" font-family=\"Times,serif\" font-size=\"14.00\" fill=\"#000000\">q0</text>\n</g>\n<!-- Initial&#45;&gt;q0 -->\n<g id=\"edge1\" class=\"edge\">\n<title>Initial&#45;&gt;q0</title>\n<path fill=\"none\" stroke=\"#000000\" d=\"M3.7829,-20.7982C8.3217,-20.7982 19.9751,-20.7982 31.6235,-20.7982\"/>\n<polygon fill=\"#000000\" stroke=\"#000000\" points=\"31.9123,-23.7733 40.4123,-20.7982 31.9122,-17.8233 31.9123,-23.7733\"/>\n</g>\n<!-- q1 -->\n<g id=\"node3\" class=\"node\">\n<title>q1</title>\n<ellipse fill=\"none\" stroke=\"#000000\" cx=\"159.9945\" cy=\"-101.7982\" rx=\"20.5982\" ry=\"20.5982\"/>\n<text text-anchor=\"middle\" x=\"159.9945\" y=\"-98.0982\" font-family=\"Times,serif\" font-size=\"14.00\" fill=\"#000000\">q1</text>\n</g>\n<!-- q0&#45;&gt;q1 -->\n<g id=\"edge2\" class=\"edge\">\n<title>q0&#45;&gt;q1</title>\n<path fill=\"none\" stroke=\"#ffff00\" stroke-width=\"2.5\" d=\"M77.6793,-34.1737C93.8068,-47.4229 118.6592,-67.8399 136.8384,-82.7747\"/>\n<polygon fill=\"#ffff00\" stroke=\"#ffff00\" stroke-width=\"2.5\" points=\"135.2327,-85.3058 143.6891,-88.4028 139.0097,-80.7083 135.2327,-85.3058\"/>\n<text text-anchor=\"middle\" x=\"110.6963\" y=\"-86.5982\" font-family=\"Times,serif\" font-size=\"14.00\" fill=\"#000000\"> [1]</text>\n<text text-anchor=\"middle\" x=\"110.6963\" y=\"-71.5982\" font-family=\"Times,serif\" font-size=\"14.00\" fill=\"#000000\">1 </text>\n</g>\n<!-- q3 -->\n<g id=\"node5\" class=\"node\">\n<title>q3</title>\n<ellipse fill=\"none\" stroke=\"#000000\" cx=\"360.1871\" cy=\"-101.7982\" rx=\"20.5982\" ry=\"20.5982\"/>\n<text text-anchor=\"middle\" x=\"360.1871\" y=\"-98.0982\" font-family=\"Times,serif\" font-size=\"14.00\" fill=\"#000000\">q3</text>\n</g>\n<!-- q0&#45;&gt;q3 -->\n<g id=\"edge6\" class=\"edge\">\n<title>q0&#45;&gt;q3</title>\n<path fill=\"none\" stroke=\"#000000\" d=\"M82.1758,-23.6472C126.9856,-30.2082 235.5949,-48.3621 321.3889,-80.7982 325.777,-82.4572 330.2863,-84.5244 334.6076,-86.7097\"/>\n<polygon fill=\"#000000\" stroke=\"#000000\" points=\"333.2152,-89.3387 342.1162,-90.7077 336.0117,-84.0868 333.2152,-89.3387\"/>\n<text text-anchor=\"middle\" x=\"206.7926\" y=\"-51.5982\" font-family=\"Times,serif\" font-size=\"14.00\" fill=\"#000000\"> 0 </text>\n</g>\n<!-- q2 -->\n<g id=\"node4\" class=\"node\">\n<title>q2</title>\n<ellipse fill=\"none\" stroke=\"#000000\" cx=\"257.5908\" cy=\"-174.7982\" rx=\"20.6302\" ry=\"20.6302\"/>\n<ellipse fill=\"none\" stroke=\"#000000\" cx=\"257.5908\" cy=\"-174.7982\" rx=\"24.5979\" ry=\"24.5979\"/>\n<text text-anchor=\"middle\" x=\"257.5908\" y=\"-171.0982\" font-family=\"Times,serif\" font-size=\"14.00\" fill=\"#000000\">q2</text>\n</g>\n<!-- q1&#45;&gt;q2 -->\n<g id=\"edge7\" class=\"edge\">\n<title>q1&#45;&gt;q2</title>\n<path fill=\"none\" stroke=\"#000000\" d=\"M176.9944,-114.5138C191.7127,-125.5227 213.2668,-141.6447 230.3825,-154.4469\"/>\n<polygon fill=\"#000000\" stroke=\"#000000\" points=\"228.8246,-156.9968 237.4132,-159.7057 232.3885,-152.2322 228.8246,-156.9968\"/>\n<text text-anchor=\"middle\" x=\"206.7926\" y=\"-145.5982\" font-family=\"Times,serif\" font-size=\"14.00\" fill=\"#000000\"> 1 </text>\n</g>\n<!-- q1&#45;&gt;q3 -->\n<g id=\"edge3\" class=\"edge\">\n<title>q1&#45;&gt;q3</title>\n<path fill=\"none\" stroke=\"#ffaa00\" stroke-width=\"2.5\" d=\"M181.0402,-101.7982C216.7854,-101.7982 289.4571,-101.7982 330.406,-101.7982\"/>\n<polygon fill=\"#ffaa00\" stroke=\"#ffaa00\" stroke-width=\"2.5\" points=\"330.623,-104.7733 339.1229,-101.7982 330.6229,-98.8233 330.623,-104.7733\"/>\n<text text-anchor=\"middle\" x=\"257.5908\" y=\"-120.5982\" font-family=\"Times,serif\" font-size=\"14.00\" fill=\"#000000\"> [2]</text>\n<text text-anchor=\"middle\" x=\"257.5908\" y=\"-105.5982\" font-family=\"Times,serif\" font-size=\"14.00\" fill=\"#000000\">0 </text>\n</g>\n<!-- q2&#45;&gt;q2 -->\n<g id=\"edge9\" class=\"edge\">\n<title>q2&#45;&gt;q2</title>\n<path fill=\"none\" stroke=\"#000000\" d=\"M248.3623,-198.1303C247.4834,-208.5686 250.5595,-217.5963 257.5908,-217.5963 262.5346,-217.5963 265.5231,-213.1331 266.5563,-206.8546\"/>\n<polygon fill=\"#000000\" stroke=\"#000000\" points=\"269.5368,-206.7161 266.8193,-198.1303 263.5895,-206.5367 269.5368,-206.7161\"/>\n<text text-anchor=\"middle\" x=\"257.5908\" y=\"-221.3963\" font-family=\"Times,serif\" font-size=\"14.00\" fill=\"#000000\"> 1 </text>\n</g>\n<!-- q2&#45;&gt;q3 -->\n<g id=\"edge8\" class=\"edge\">\n<title>q2&#45;&gt;q3</title>\n<path fill=\"none\" stroke=\"#000000\" d=\"M277.8605,-160.3757C294.5185,-148.5231 318.1687,-131.6953 335.8496,-119.1149\"/>\n<polygon fill=\"#000000\" stroke=\"#000000\" points=\"337.8228,-121.3622 343.0238,-114.0103 334.3733,-116.5142 337.8228,-121.3622\"/>\n<text text-anchor=\"middle\" x=\"310.8889\" y=\"-145.5982\" font-family=\"Times,serif\" font-size=\"14.00\" fill=\"#000000\"> 0 </text>\n</g>\n<!-- q3&#45;&gt;q1 -->\n<g id=\"edge10\" class=\"edge\">\n<title>q3&#45;&gt;q1</title>\n<path fill=\"none\" stroke=\"#000000\" d=\"M340.281,-95.5382C324.7053,-90.9825 302.4047,-85.2069 282.3889,-82.7982 260.504,-80.1645 254.6561,-79.992 232.7926,-82.7982 217.8076,-84.7215 201.5028,-88.7854 188.1297,-92.663\"/>\n<polygon fill=\"#000000\" stroke=\"#000000\" points=\"187.0948,-89.8674 179.8084,-95.1598 188.8049,-95.5664 187.0948,-89.8674\"/>\n<text text-anchor=\"middle\" x=\"257.5908\" y=\"-86.5982\" font-family=\"Times,serif\" font-size=\"14.00\" fill=\"#000000\"> 1 </text>\n</g>\n<!-- q4 -->\n<g id=\"node6\" class=\"node\">\n<title>q4</title>\n<ellipse fill=\"none\" stroke=\"#000000\" cx=\"462.7834\" cy=\"-180.7982\" rx=\"20.6302\" ry=\"20.6302\"/>\n<ellipse fill=\"none\" stroke=\"#000000\" cx=\"462.7834\" cy=\"-180.7982\" rx=\"24.5979\" ry=\"24.5979\"/>\n<text text-anchor=\"middle\" x=\"462.7834\" y=\"-177.0982\" font-family=\"Times,serif\" font-size=\"14.00\" fill=\"#000000\">q4</text>\n</g>\n<!-- q3&#45;&gt;q4 -->\n<g id=\"edge4\" class=\"edge\">\n<title>q3&#45;&gt;q4</title>\n<path fill=\"none\" stroke=\"#ff5500\" stroke-width=\"2.5\" d=\"M376.671,-114.4909C392.5728,-126.7354 416.9255,-145.4872 435.6809,-159.929\"/>\n<polygon fill=\"#ff5500\" stroke=\"#ff5500\" stroke-width=\"2.5\" points=\"434.2713,-162.5984 442.8211,-165.427 437.9014,-157.884 434.2713,-162.5984\"/>\n<text text-anchor=\"middle\" x=\"409.4852\" y=\"-164.5982\" font-family=\"Times,serif\" font-size=\"14.00\" fill=\"#000000\"> [3]</text>\n<text text-anchor=\"middle\" x=\"409.4852\" y=\"-149.5982\" font-family=\"Times,serif\" font-size=\"14.00\" fill=\"#000000\">0 </text>\n</g>\n<!-- q4&#45;&gt;q1 -->\n<g id=\"edge5\" class=\"edge\">\n<title>q4&#45;&gt;q1</title>\n<path fill=\"none\" stroke=\"#ff0000\" stroke-width=\"2.5\" d=\"M442.8505,-195.7547C401.0523,-225.1423 302.3555,-284.0317 232.7926,-241.7982 193.1321,-217.7191 174.0858,-164.2238 165.7369,-130.774\"/>\n<polygon fill=\"#ff0000\" stroke=\"#ff0000\" stroke-width=\"2.5\" points=\"168.591,-129.9145 163.7478,-122.3221 162.7992,-131.2776 168.591,-129.9145\"/>\n<text text-anchor=\"middle\" x=\"310.8889\" y=\"-274.5982\" font-family=\"Times,serif\" font-size=\"14.00\" fill=\"#000000\"> [4]</text>\n<text text-anchor=\"middle\" x=\"310.8889\" y=\"-259.5982\" font-family=\"Times,serif\" font-size=\"14.00\" fill=\"#000000\">1 </text>\n</g>\n<!-- q4&#45;&gt;q4 -->\n<g id=\"edge11\" class=\"edge\">\n<title>q4&#45;&gt;q4</title>\n<path fill=\"none\" stroke=\"#000000\" d=\"M453.2262,-203.6945C452.1836,-214.3161 455.3693,-223.5963 462.7834,-223.5963 467.9964,-223.5963 471.119,-219.0083 472.1512,-212.592\"/>\n<polygon fill=\"#000000\" stroke=\"#000000\" points=\"475.1339,-212.256 472.3406,-203.6945 469.1852,-212.1292 475.1339,-212.256\"/>\n<text text-anchor=\"middle\" x=\"462.7834\" y=\"-227.3963\" font-family=\"Times,serif\" font-size=\"14.00\" fill=\"#000000\"> 0 </text>\n</g>\n</g>\n</svg>\n"
          },
          "metadata": {},
          "execution_count": 12
        }
      ]
    },
    {
      "cell_type": "markdown",
      "metadata": {
        "id": "PcyQyJTQRTET"
      },
      "source": [
        "**Exibir Diagrama de palavra aceita**"
      ]
    },
    {
      "cell_type": "code",
      "metadata": {
        "colab": {
          "base_uri": "https://localhost:8080/",
          "height": 632
        },
        "id": "GSpN5gowQe3A",
        "outputId": "6d539e8b-6556-4b15-f31d-bd7a088469f3"
      },
      "source": [
        "dfa.show_diagram(\"10011\")"
      ],
      "execution_count": null,
      "outputs": [
        {
          "output_type": "display_data",
          "data": {
            "text/html": [
              "<div>\n",
              "<style scoped>\n",
              "    .dataframe tbody tr th:only-of-type {\n",
              "        vertical-align: middle;\n",
              "    }\n",
              "\n",
              "    .dataframe tbody tr th {\n",
              "        vertical-align: top;\n",
              "    }\n",
              "\n",
              "    .dataframe thead tr th {\n",
              "        text-align: left;\n",
              "    }\n",
              "</style>\n",
              "<table border=\"1\" class=\"dataframe\">\n",
              "  <thead>\n",
              "    <tr>\n",
              "      <th></th>\n",
              "      <th colspan=\"3\" halign=\"left\">[Accepted]</th>\n",
              "    </tr>\n",
              "    <tr>\n",
              "      <th>Step:</th>\n",
              "      <th>Current state:</th>\n",
              "      <th>Input symbol:</th>\n",
              "      <th>New state:</th>\n",
              "    </tr>\n",
              "  </thead>\n",
              "  <tbody>\n",
              "    <tr>\n",
              "      <th>1</th>\n",
              "      <td>→q0</td>\n",
              "      <td>1</td>\n",
              "      <td>q1</td>\n",
              "    </tr>\n",
              "    <tr>\n",
              "      <th>2</th>\n",
              "      <td>q1</td>\n",
              "      <td>0</td>\n",
              "      <td>q3</td>\n",
              "    </tr>\n",
              "    <tr>\n",
              "      <th>3</th>\n",
              "      <td>q3</td>\n",
              "      <td>0</td>\n",
              "      <td>*q4</td>\n",
              "    </tr>\n",
              "    <tr>\n",
              "      <th>4</th>\n",
              "      <td>*q4</td>\n",
              "      <td>1</td>\n",
              "      <td>q1</td>\n",
              "    </tr>\n",
              "    <tr>\n",
              "      <th>5</th>\n",
              "      <td>q1</td>\n",
              "      <td>1</td>\n",
              "      <td>*q2</td>\n",
              "    </tr>\n",
              "  </tbody>\n",
              "</table>\n",
              "</div>"
            ],
            "text/plain": [
              "          [Accepted]                         \n",
              "Step: Current state: Input symbol: New state:\n",
              "1                →q0             1         q1\n",
              "2                 q1             0         q3\n",
              "3                 q3             0        *q4\n",
              "4                *q4             1         q1\n",
              "5                 q1             1        *q2"
            ]
          },
          "metadata": {}
        },
        {
          "output_type": "execute_result",
          "data": {
            "text/plain": [
              "<graphviz.dot.Digraph at 0x7fc91732b3d0>"
            ],
            "image/svg+xml": "<?xml version=\"1.0\" encoding=\"UTF-8\" standalone=\"no\"?>\n<!DOCTYPE svg PUBLIC \"-//W3C//DTD SVG 1.1//EN\"\n \"http://www.w3.org/Graphics/SVG/1.1/DTD/svg11.dtd\">\n<!-- Generated by graphviz version 2.40.1 (20161225.0304)\n -->\n<!-- Title: %3 Pages: 1 -->\n<svg width=\"501pt\" height=\"293pt\"\n viewBox=\"0.00 0.00 500.58 292.80\" xmlns=\"http://www.w3.org/2000/svg\" xmlns:xlink=\"http://www.w3.org/1999/xlink\">\n<g id=\"graph0\" class=\"graph\" transform=\"scale(1 1) rotate(0) translate(4 288.7982)\">\n<title>%3</title>\n<polygon fill=\"#ffffff\" stroke=\"transparent\" points=\"-4,4 -4,-288.7982 496.5815,-288.7982 496.5815,4 -4,4\"/>\n<!-- Initial -->\n<g id=\"node1\" class=\"node\">\n<title>Initial</title>\n<ellipse fill=\"#000000\" stroke=\"#000000\" cx=\"1.8\" cy=\"-20.7982\" rx=\"1.8\" ry=\"1.8\"/>\n</g>\n<!-- q0 -->\n<g id=\"node2\" class=\"node\">\n<title>q0</title>\n<ellipse fill=\"none\" stroke=\"#000000\" cx=\"61.3982\" cy=\"-20.7982\" rx=\"20.5982\" ry=\"20.5982\"/>\n<text text-anchor=\"middle\" x=\"61.3982\" y=\"-17.0982\" font-family=\"Times,serif\" font-size=\"14.00\" fill=\"#000000\">q0</text>\n</g>\n<!-- Initial&#45;&gt;q0 -->\n<g id=\"edge1\" class=\"edge\">\n<title>Initial&#45;&gt;q0</title>\n<path fill=\"none\" stroke=\"#000000\" d=\"M3.7829,-20.7982C8.3217,-20.7982 19.9751,-20.7982 31.6235,-20.7982\"/>\n<polygon fill=\"#000000\" stroke=\"#000000\" points=\"31.9123,-23.7733 40.4123,-20.7982 31.9122,-17.8233 31.9123,-23.7733\"/>\n</g>\n<!-- q1 -->\n<g id=\"node3\" class=\"node\">\n<title>q1</title>\n<ellipse fill=\"none\" stroke=\"#000000\" cx=\"159.9945\" cy=\"-101.7982\" rx=\"20.5982\" ry=\"20.5982\"/>\n<text text-anchor=\"middle\" x=\"159.9945\" y=\"-98.0982\" font-family=\"Times,serif\" font-size=\"14.00\" fill=\"#000000\">q1</text>\n</g>\n<!-- q0&#45;&gt;q1 -->\n<g id=\"edge2\" class=\"edge\">\n<title>q0&#45;&gt;q1</title>\n<path fill=\"none\" stroke=\"#ffff00\" stroke-width=\"2.5\" d=\"M77.6793,-34.1737C93.8068,-47.4229 118.6592,-67.8399 136.8384,-82.7747\"/>\n<polygon fill=\"#ffff00\" stroke=\"#ffff00\" stroke-width=\"2.5\" points=\"135.2327,-85.3058 143.6891,-88.4028 139.0097,-80.7083 135.2327,-85.3058\"/>\n<text text-anchor=\"middle\" x=\"110.6963\" y=\"-86.5982\" font-family=\"Times,serif\" font-size=\"14.00\" fill=\"#000000\"> [1]</text>\n<text text-anchor=\"middle\" x=\"110.6963\" y=\"-71.5982\" font-family=\"Times,serif\" font-size=\"14.00\" fill=\"#000000\">1 </text>\n</g>\n<!-- q3 -->\n<g id=\"node5\" class=\"node\">\n<title>q3</title>\n<ellipse fill=\"none\" stroke=\"#000000\" cx=\"365.1871\" cy=\"-101.7982\" rx=\"20.5982\" ry=\"20.5982\"/>\n<text text-anchor=\"middle\" x=\"365.1871\" y=\"-98.0982\" font-family=\"Times,serif\" font-size=\"14.00\" fill=\"#000000\">q3</text>\n</g>\n<!-- q0&#45;&gt;q3 -->\n<g id=\"edge7\" class=\"edge\">\n<title>q0&#45;&gt;q3</title>\n<path fill=\"none\" stroke=\"#000000\" d=\"M82.2329,-23.5353C127.6942,-29.9312 238.7387,-47.8674 326.3889,-80.7982 330.7805,-82.4481 335.2915,-84.5106 339.6136,-86.6939\"/>\n<polygon fill=\"#000000\" stroke=\"#000000\" points=\"338.2213,-89.323 347.1224,-90.6911 341.0173,-84.0708 338.2213,-89.323\"/>\n<text text-anchor=\"middle\" x=\"209.2926\" y=\"-52.5982\" font-family=\"Times,serif\" font-size=\"14.00\" fill=\"#000000\"> 0 </text>\n</g>\n<!-- q2 -->\n<g id=\"node4\" class=\"node\">\n<title>q2</title>\n<ellipse fill=\"none\" stroke=\"#000000\" cx=\"262.5908\" cy=\"-174.7982\" rx=\"20.6302\" ry=\"20.6302\"/>\n<ellipse fill=\"none\" stroke=\"#000000\" cx=\"262.5908\" cy=\"-174.7982\" rx=\"24.5979\" ry=\"24.5979\"/>\n<text text-anchor=\"middle\" x=\"262.5908\" y=\"-171.0982\" font-family=\"Times,serif\" font-size=\"14.00\" fill=\"#000000\">q2</text>\n</g>\n<!-- q1&#45;&gt;q2 -->\n<g id=\"edge6\" class=\"edge\">\n<title>q1&#45;&gt;q2</title>\n<path fill=\"none\" stroke=\"#00ff00\" stroke-width=\"2.5\" d=\"M177.3985,-114.1816C193.2463,-125.4577 216.9059,-142.2922 235.2731,-155.3609\"/>\n<polygon fill=\"#00ff00\" stroke=\"#00ff00\" stroke-width=\"2.5\" points=\"233.6264,-157.8405 242.277,-160.3444 237.076,-152.9924 233.6264,-157.8405\"/>\n<text text-anchor=\"middle\" x=\"209.2926\" y=\"-160.5982\" font-family=\"Times,serif\" font-size=\"14.00\" fill=\"#000000\"> [5]</text>\n<text text-anchor=\"middle\" x=\"209.2926\" y=\"-145.5982\" font-family=\"Times,serif\" font-size=\"14.00\" fill=\"#000000\">1 </text>\n</g>\n<!-- q1&#45;&gt;q3 -->\n<g id=\"edge3\" class=\"edge\">\n<title>q1&#45;&gt;q3</title>\n<path fill=\"none\" stroke=\"#bfff00\" stroke-width=\"2.5\" d=\"M180.7986,-101.7982C217.4384,-101.7982 293.5719,-101.7982 335.6455,-101.7982\"/>\n<polygon fill=\"#bfff00\" stroke=\"#bfff00\" stroke-width=\"2.5\" points=\"335.8279,-104.7733 344.3278,-101.7982 335.8278,-98.8233 335.8279,-104.7733\"/>\n<text text-anchor=\"middle\" x=\"262.5908\" y=\"-120.5982\" font-family=\"Times,serif\" font-size=\"14.00\" fill=\"#000000\"> [2]</text>\n<text text-anchor=\"middle\" x=\"262.5908\" y=\"-105.5982\" font-family=\"Times,serif\" font-size=\"14.00\" fill=\"#000000\">0 </text>\n</g>\n<!-- q2&#45;&gt;q2 -->\n<g id=\"edge9\" class=\"edge\">\n<title>q2&#45;&gt;q2</title>\n<path fill=\"none\" stroke=\"#000000\" d=\"M253.0336,-197.6945C251.991,-208.3161 255.1767,-217.5963 262.5908,-217.5963 267.8038,-217.5963 270.9264,-213.0083 271.9585,-206.592\"/>\n<polygon fill=\"#000000\" stroke=\"#000000\" points=\"274.9413,-206.256 272.148,-197.6945 268.9926,-206.1292 274.9413,-206.256\"/>\n<text text-anchor=\"middle\" x=\"262.5908\" y=\"-221.3963\" font-family=\"Times,serif\" font-size=\"14.00\" fill=\"#000000\"> 1 </text>\n</g>\n<!-- q2&#45;&gt;q3 -->\n<g id=\"edge8\" class=\"edge\">\n<title>q2&#45;&gt;q3</title>\n<path fill=\"none\" stroke=\"#000000\" d=\"M282.8605,-160.3757C299.5185,-148.5231 323.1687,-131.6953 340.8496,-119.1149\"/>\n<polygon fill=\"#000000\" stroke=\"#000000\" points=\"342.8228,-121.3622 348.0238,-114.0103 339.3733,-116.5142 342.8228,-121.3622\"/>\n<text text-anchor=\"middle\" x=\"315.8889\" y=\"-145.5982\" font-family=\"Times,serif\" font-size=\"14.00\" fill=\"#000000\"> 0 </text>\n</g>\n<!-- q3&#45;&gt;q1 -->\n<g id=\"edge10\" class=\"edge\">\n<title>q3&#45;&gt;q1</title>\n<path fill=\"none\" stroke=\"#000000\" d=\"M345.281,-95.5382C329.7053,-90.9825 307.4047,-85.2069 287.3889,-82.7982 265.504,-80.1645 259.6775,-80.1645 237.7926,-82.7982 221.217,-84.7929 203.0746,-89.0966 188.482,-93.1043\"/>\n<polygon fill=\"#000000\" stroke=\"#000000\" points=\"187.2663,-90.3567 179.9006,-95.5382 188.8898,-96.0809 187.2663,-90.3567\"/>\n<text text-anchor=\"middle\" x=\"262.5908\" y=\"-86.5982\" font-family=\"Times,serif\" font-size=\"14.00\" fill=\"#000000\"> 1 </text>\n</g>\n<!-- q4 -->\n<g id=\"node6\" class=\"node\">\n<title>q4</title>\n<ellipse fill=\"none\" stroke=\"#000000\" cx=\"467.7834\" cy=\"-180.7982\" rx=\"20.6302\" ry=\"20.6302\"/>\n<ellipse fill=\"none\" stroke=\"#000000\" cx=\"467.7834\" cy=\"-180.7982\" rx=\"24.5979\" ry=\"24.5979\"/>\n<text text-anchor=\"middle\" x=\"467.7834\" y=\"-177.0982\" font-family=\"Times,serif\" font-size=\"14.00\" fill=\"#000000\">q4</text>\n</g>\n<!-- q3&#45;&gt;q4 -->\n<g id=\"edge4\" class=\"edge\">\n<title>q3&#45;&gt;q4</title>\n<path fill=\"none\" stroke=\"#80ff00\" stroke-width=\"2.5\" d=\"M381.671,-114.4909C397.5728,-126.7354 421.9255,-145.4872 440.6809,-159.929\"/>\n<polygon fill=\"#80ff00\" stroke=\"#80ff00\" stroke-width=\"2.5\" points=\"439.2713,-162.5984 447.8211,-165.427 442.9014,-157.884 439.2713,-162.5984\"/>\n<text text-anchor=\"middle\" x=\"414.4852\" y=\"-164.5982\" font-family=\"Times,serif\" font-size=\"14.00\" fill=\"#000000\"> [3]</text>\n<text text-anchor=\"middle\" x=\"414.4852\" y=\"-149.5982\" font-family=\"Times,serif\" font-size=\"14.00\" fill=\"#000000\">0 </text>\n</g>\n<!-- q4&#45;&gt;q1 -->\n<g id=\"edge5\" class=\"edge\">\n<title>q4&#45;&gt;q1</title>\n<path fill=\"none\" stroke=\"#40ff00\" stroke-width=\"2.5\" d=\"M447.712,-195.6718C406.0703,-224.5594 308.2949,-282.0289 237.7926,-241.7982 196.7785,-218.3943 175.9435,-164.4321 166.5639,-130.7542\"/>\n<polygon fill=\"#40ff00\" stroke=\"#40ff00\" stroke-width=\"2.5\" points=\"169.3643,-129.7065 164.3176,-122.2478 163.6115,-131.2257 169.3643,-129.7065\"/>\n<text text-anchor=\"middle\" x=\"315.8889\" y=\"-273.5982\" font-family=\"Times,serif\" font-size=\"14.00\" fill=\"#000000\"> [4]</text>\n<text text-anchor=\"middle\" x=\"315.8889\" y=\"-258.5982\" font-family=\"Times,serif\" font-size=\"14.00\" fill=\"#000000\">1 </text>\n</g>\n<!-- q4&#45;&gt;q4 -->\n<g id=\"edge11\" class=\"edge\">\n<title>q4&#45;&gt;q4</title>\n<path fill=\"none\" stroke=\"#000000\" d=\"M458.2262,-203.6945C457.1836,-214.3161 460.3693,-223.5963 467.7834,-223.5963 472.9964,-223.5963 476.119,-219.0083 477.1512,-212.592\"/>\n<polygon fill=\"#000000\" stroke=\"#000000\" points=\"480.1339,-212.256 477.3406,-203.6945 474.1852,-212.1292 480.1339,-212.256\"/>\n<text text-anchor=\"middle\" x=\"467.7834\" y=\"-227.3963\" font-family=\"Times,serif\" font-size=\"14.00\" fill=\"#000000\"> 0 </text>\n</g>\n</g>\n</svg>\n"
          },
          "metadata": {},
          "execution_count": 13
        }
      ]
    },
    {
      "cell_type": "markdown",
      "metadata": {
        "id": "XJMOBFUKQ4RN"
      },
      "source": [
        "# **Minimização do AFD**"
      ]
    },
    {
      "cell_type": "code",
      "metadata": {
        "colab": {
          "base_uri": "https://localhost:8080/"
        },
        "id": "npCMYTDEQIBY",
        "outputId": "fedde9aa-79f6-440a-ac83-29d8eea60d5a"
      },
      "source": [
        "minimal_dfa = VisualDFA.minify(dfa)\n",
        "minimal_dfa.show_diagram()"
      ],
      "execution_count": null,
      "outputs": [
        {
          "output_type": "execute_result",
          "data": {
            "text/plain": [
              "<graphviz.dot.Digraph at 0x7fc9173320d0>"
            ],
            "image/svg+xml": "<?xml version=\"1.0\" encoding=\"UTF-8\" standalone=\"no\"?>\n<!DOCTYPE svg PUBLIC \"-//W3C//DTD SVG 1.1//EN\"\n \"http://www.w3.org/Graphics/SVG/1.1/DTD/svg11.dtd\">\n<!-- Generated by graphviz version 2.40.1 (20161225.0304)\n -->\n<!-- Title: %3 Pages: 1 -->\n<svg width=\"481pt\" height=\"263pt\"\n viewBox=\"0.00 0.00 480.58 262.80\" xmlns=\"http://www.w3.org/2000/svg\" xmlns:xlink=\"http://www.w3.org/1999/xlink\">\n<g id=\"graph0\" class=\"graph\" transform=\"scale(1 1) rotate(0) translate(4 258.7982)\">\n<title>%3</title>\n<polygon fill=\"#ffffff\" stroke=\"transparent\" points=\"-4,4 -4,-258.7982 476.5815,-258.7982 476.5815,4 -4,4\"/>\n<!-- Initial -->\n<g id=\"node1\" class=\"node\">\n<title>Initial</title>\n<ellipse fill=\"#000000\" stroke=\"#000000\" cx=\"1.8\" cy=\"-20.7982\" rx=\"1.8\" ry=\"1.8\"/>\n</g>\n<!-- q0 -->\n<g id=\"node2\" class=\"node\">\n<title>q0</title>\n<ellipse fill=\"none\" stroke=\"#000000\" cx=\"61.3982\" cy=\"-20.7982\" rx=\"20.5982\" ry=\"20.5982\"/>\n<text text-anchor=\"middle\" x=\"61.3982\" y=\"-17.0982\" font-family=\"Times,serif\" font-size=\"14.00\" fill=\"#000000\">q0</text>\n</g>\n<!-- Initial&#45;&gt;q0 -->\n<g id=\"edge1\" class=\"edge\">\n<title>Initial&#45;&gt;q0</title>\n<path fill=\"none\" stroke=\"#000000\" d=\"M3.7829,-20.7982C8.3217,-20.7982 19.9751,-20.7982 31.6235,-20.7982\"/>\n<polygon fill=\"#000000\" stroke=\"#000000\" points=\"31.9123,-23.7733 40.4123,-20.7982 31.9122,-17.8233 31.9123,-23.7733\"/>\n</g>\n<!-- q1 -->\n<g id=\"node3\" class=\"node\">\n<title>q1</title>\n<ellipse fill=\"none\" stroke=\"#000000\" cx=\"154.9945\" cy=\"-101.7982\" rx=\"20.5982\" ry=\"20.5982\"/>\n<text text-anchor=\"middle\" x=\"154.9945\" y=\"-98.0982\" font-family=\"Times,serif\" font-size=\"14.00\" fill=\"#000000\">q1</text>\n</g>\n<!-- q0&#45;&gt;q1 -->\n<g id=\"edge5\" class=\"edge\">\n<title>q0&#45;&gt;q1</title>\n<path fill=\"none\" stroke=\"#000000\" d=\"M77.2755,-34.5387C92.4698,-47.6881 115.5353,-67.6495 132.5954,-82.4135\"/>\n<polygon fill=\"#000000\" stroke=\"#000000\" points=\"130.6651,-84.6774 139.0392,-87.9902 134.5587,-80.1783 130.6651,-84.6774\"/>\n<text text-anchor=\"middle\" x=\"108.1963\" y=\"-69.5982\" font-family=\"Times,serif\" font-size=\"14.00\" fill=\"#000000\"> 1 </text>\n</g>\n<!-- q3 -->\n<g id=\"node5\" class=\"node\">\n<title>q3</title>\n<ellipse fill=\"none\" stroke=\"#000000\" cx=\"350.1871\" cy=\"-101.7982\" rx=\"20.5982\" ry=\"20.5982\"/>\n<text text-anchor=\"middle\" x=\"350.1871\" y=\"-98.0982\" font-family=\"Times,serif\" font-size=\"14.00\" fill=\"#000000\">q3</text>\n</g>\n<!-- q0&#45;&gt;q3 -->\n<g id=\"edge4\" class=\"edge\">\n<title>q0&#45;&gt;q3</title>\n<path fill=\"none\" stroke=\"#000000\" d=\"M81.9764,-24.1155C125.3501,-31.4741 228.949,-50.9888 311.3889,-81.7982 315.6281,-83.3824 320.0008,-85.3159 324.214,-87.3494\"/>\n<polygon fill=\"#000000\" stroke=\"#000000\" points=\"323.1159,-90.1282 332.0426,-91.3179 325.8062,-84.8211 323.1159,-90.1282\"/>\n<text text-anchor=\"middle\" x=\"201.7926\" y=\"-53.5982\" font-family=\"Times,serif\" font-size=\"14.00\" fill=\"#000000\"> 0 </text>\n</g>\n<!-- q2 -->\n<g id=\"node4\" class=\"node\">\n<title>q2</title>\n<ellipse fill=\"none\" stroke=\"#000000\" cx=\"252.5908\" cy=\"-159.7982\" rx=\"20.6302\" ry=\"20.6302\"/>\n<ellipse fill=\"none\" stroke=\"#000000\" cx=\"252.5908\" cy=\"-159.7982\" rx=\"24.5979\" ry=\"24.5979\"/>\n<text text-anchor=\"middle\" x=\"252.5908\" y=\"-156.0982\" font-family=\"Times,serif\" font-size=\"14.00\" fill=\"#000000\">q2</text>\n</g>\n<!-- q1&#45;&gt;q2 -->\n<g id=\"edge7\" class=\"edge\">\n<title>q1&#45;&gt;q2</title>\n<path fill=\"none\" stroke=\"#000000\" d=\"M172.8951,-112.4362C186.9879,-120.8114 206.9212,-132.6575 223.3267,-142.407\"/>\n<polygon fill=\"#000000\" stroke=\"#000000\" points=\"222.2289,-145.2152 231.0558,-147.0003 225.2686,-140.1003 222.2289,-145.2152\"/>\n<text text-anchor=\"middle\" x=\"201.7926\" y=\"-137.5982\" font-family=\"Times,serif\" font-size=\"14.00\" fill=\"#000000\"> 1 </text>\n</g>\n<!-- q1&#45;&gt;q3 -->\n<g id=\"edge6\" class=\"edge\">\n<title>q1&#45;&gt;q3</title>\n<path fill=\"none\" stroke=\"#000000\" d=\"M175.8835,-101.7982C210.7196,-101.7982 280.779,-101.7982 320.6526,-101.7982\"/>\n<polygon fill=\"#000000\" stroke=\"#000000\" points=\"320.6533,-104.7733 329.1532,-101.7982 320.6532,-98.8233 320.6533,-104.7733\"/>\n<text text-anchor=\"middle\" x=\"252.5908\" y=\"-105.5982\" font-family=\"Times,serif\" font-size=\"14.00\" fill=\"#000000\"> 0 </text>\n</g>\n<!-- q2&#45;&gt;q2 -->\n<g id=\"edge3\" class=\"edge\">\n<title>q2&#45;&gt;q2</title>\n<path fill=\"none\" stroke=\"#000000\" d=\"M243.3623,-183.1303C242.4834,-193.5686 245.5595,-202.5963 252.5908,-202.5963 257.5346,-202.5963 260.5231,-198.1331 261.5563,-191.8546\"/>\n<polygon fill=\"#000000\" stroke=\"#000000\" points=\"264.5368,-191.7161 261.8193,-183.1303 258.5895,-191.5367 264.5368,-191.7161\"/>\n<text text-anchor=\"middle\" x=\"252.5908\" y=\"-206.3963\" font-family=\"Times,serif\" font-size=\"14.00\" fill=\"#000000\"> 1 </text>\n</g>\n<!-- q2&#45;&gt;q3 -->\n<g id=\"edge2\" class=\"edge\">\n<title>q2&#45;&gt;q3</title>\n<path fill=\"none\" stroke=\"#000000\" d=\"M274.2506,-146.9261C289.2113,-138.0351 309.162,-126.1787 324.8595,-116.85\"/>\n<polygon fill=\"#000000\" stroke=\"#000000\" points=\"326.3962,-119.3975 332.1834,-112.4975 323.3564,-114.2825 326.3962,-119.3975\"/>\n<text text-anchor=\"middle\" x=\"303.3889\" y=\"-137.5982\" font-family=\"Times,serif\" font-size=\"14.00\" fill=\"#000000\"> 0 </text>\n</g>\n<!-- q3&#45;&gt;q1 -->\n<g id=\"edge11\" class=\"edge\">\n<title>q3&#45;&gt;q1</title>\n<path fill=\"none\" stroke=\"#000000\" d=\"M330.3731,-95.1598C315.8852,-90.6685 295.6564,-85.1428 277.3889,-82.7982 255.5255,-79.992 249.6561,-79.992 227.7926,-82.7982 212.8076,-84.7215 196.5028,-88.7854 183.1297,-92.663\"/>\n<polygon fill=\"#000000\" stroke=\"#000000\" points=\"182.0948,-89.8674 174.8084,-95.1598 183.8049,-95.5664 182.0948,-89.8674\"/>\n<text text-anchor=\"middle\" x=\"252.5908\" y=\"-86.5982\" font-family=\"Times,serif\" font-size=\"14.00\" fill=\"#000000\"> 1 </text>\n</g>\n<!-- q4 -->\n<g id=\"node6\" class=\"node\">\n<title>q4</title>\n<ellipse fill=\"none\" stroke=\"#000000\" cx=\"447.7834\" cy=\"-173.7982\" rx=\"20.6302\" ry=\"20.6302\"/>\n<ellipse fill=\"none\" stroke=\"#000000\" cx=\"447.7834\" cy=\"-173.7982\" rx=\"24.5979\" ry=\"24.5979\"/>\n<text text-anchor=\"middle\" x=\"447.7834\" y=\"-170.0982\" font-family=\"Times,serif\" font-size=\"14.00\" fill=\"#000000\">q4</text>\n</g>\n<!-- q3&#45;&gt;q4 -->\n<g id=\"edge10\" class=\"edge\">\n<title>q3&#45;&gt;q4</title>\n<path fill=\"none\" stroke=\"#000000\" d=\"M367.1871,-114.3396C381.9053,-125.1978 403.4594,-141.0989 420.5751,-153.7257\"/>\n<polygon fill=\"#000000\" stroke=\"#000000\" points=\"418.9995,-156.2603 427.6058,-158.9125 422.5319,-151.4723 418.9995,-156.2603\"/>\n<text text-anchor=\"middle\" x=\"396.9852\" y=\"-145.5982\" font-family=\"Times,serif\" font-size=\"14.00\" fill=\"#000000\"> 0 </text>\n</g>\n<!-- q4&#45;&gt;q1 -->\n<g id=\"edge9\" class=\"edge\">\n<title>q4&#45;&gt;q1</title>\n<path fill=\"none\" stroke=\"#000000\" d=\"M427.2644,-188.098C386.6097,-214.5007 294.0379,-264.8787 227.7926,-226.7982 192.1232,-206.2939 172.2935,-160.8406 162.6383,-130.7681\"/>\n<polygon fill=\"#000000\" stroke=\"#000000\" points=\"165.3964,-129.6132 160.071,-122.3509 159.7052,-131.349 165.3964,-129.6132\"/>\n<text text-anchor=\"middle\" x=\"303.3889\" y=\"-243.5982\" font-family=\"Times,serif\" font-size=\"14.00\" fill=\"#000000\"> 1 </text>\n</g>\n<!-- q4&#45;&gt;q4 -->\n<g id=\"edge8\" class=\"edge\">\n<title>q4&#45;&gt;q4</title>\n<path fill=\"none\" stroke=\"#000000\" d=\"M438.5549,-197.1303C437.676,-207.5686 440.7521,-216.5963 447.7834,-216.5963 452.7272,-216.5963 455.7158,-212.1331 456.7489,-205.8546\"/>\n<polygon fill=\"#000000\" stroke=\"#000000\" points=\"459.7294,-205.7161 457.0119,-197.1303 453.7821,-205.5367 459.7294,-205.7161\"/>\n<text text-anchor=\"middle\" x=\"447.7834\" y=\"-220.3963\" font-family=\"Times,serif\" font-size=\"14.00\" fill=\"#000000\"> 0 </text>\n</g>\n</g>\n</svg>\n"
          },
          "metadata": {},
          "execution_count": 14
        }
      ]
    },
    {
      "cell_type": "markdown",
      "metadata": {
        "id": "pbdD78fV3Bta"
      },
      "source": [
        "# **AFD**\n",
        "\n",
        "**biblioteca:**automata\n",
        "\n",
        "**url:** https://github.com/caleb531/automata"
      ]
    },
    {
      "cell_type": "code",
      "metadata": {
        "colab": {
          "base_uri": "https://localhost:8080/"
        },
        "id": "9-3s44Xd1xiK",
        "outputId": "56e039ca-20b5-47bb-f4f1-5c4dad054f6d"
      },
      "source": [
        "pip install automata-lib"
      ],
      "execution_count": null,
      "outputs": [
        {
          "output_type": "stream",
          "name": "stdout",
          "text": [
            "Requirement already satisfied: automata-lib in /usr/local/lib/python3.7/dist-packages (5.0.0)\n",
            "Requirement already satisfied: pydot in /usr/local/lib/python3.7/dist-packages (from automata-lib) (1.3.0)\n",
            "Requirement already satisfied: pyparsing>=2.1.4 in /usr/local/lib/python3.7/dist-packages (from pydot->automata-lib) (2.4.7)\n"
          ]
        }
      ]
    },
    {
      "cell_type": "code",
      "metadata": {
        "id": "Smgn8LBA18ny"
      },
      "source": [
        "from automata.fa.dfa import DFA\n",
        "dfa = DFA(\n",
        "    states={'q0', 'q1', 'q2'},\n",
        "    input_symbols={'0', '1'},\n",
        "    transitions={\n",
        "        'q0': {'0': 'q0', '1': 'q1'},\n",
        "        'q1': {'0': 'q0', '1': 'q2'},\n",
        "        'q2': {'0': 'q2', '1': 'q1'}\n",
        "    },\n",
        "    initial_state='q0',\n",
        "    final_states={'q1'}\n",
        ")"
      ],
      "execution_count": null,
      "outputs": []
    },
    {
      "cell_type": "code",
      "metadata": {
        "colab": {
          "base_uri": "https://localhost:8080/"
        },
        "id": "GtKyYOGX2BmU",
        "outputId": "8bca6bd2-faf9-42ba-ce64-942bfe9f6345"
      },
      "source": [
        "dfa.read_input('01')  # returns 'q1'"
      ],
      "execution_count": null,
      "outputs": [
        {
          "output_type": "execute_result",
          "data": {
            "application/vnd.google.colaboratory.intrinsic+json": {
              "type": "string"
            },
            "text/plain": [
              "'q1'"
            ]
          },
          "metadata": {},
          "execution_count": 17
        }
      ]
    },
    {
      "cell_type": "code",
      "metadata": {
        "colab": {
          "base_uri": "https://localhost:8080/"
        },
        "id": "xC4aEmW62FTJ",
        "outputId": "75e78579-0a49-49a4-fb64-ee6dd842e675"
      },
      "source": [
        "list(dfa.read_input_stepwise('0111'))\n",
        "# yields:\n",
        "# 'q0'\n",
        "# 'q0'\n",
        "# 'q1'\n",
        "# 'q2'\n",
        "# 'q1'\n",
        "\n"
      ],
      "execution_count": null,
      "outputs": [
        {
          "output_type": "execute_result",
          "data": {
            "text/plain": [
              "['q0', 'q0', 'q1', 'q2', 'q1']"
            ]
          },
          "metadata": {},
          "execution_count": 18
        }
      ]
    },
    {
      "cell_type": "code",
      "metadata": {
        "colab": {
          "base_uri": "https://localhost:8080/"
        },
        "id": "4q2lhHoW2yej",
        "outputId": "88581654-1eda-447a-da59-4910df28ae1f"
      },
      "source": [
        "my_input_str = '0111'\n",
        "\n",
        "if dfa.accepts_input(my_input_str):\n",
        "    print('accepted')\n",
        "else:\n",
        "    print('rejected')\n"
      ],
      "execution_count": null,
      "outputs": [
        {
          "output_type": "stream",
          "name": "stdout",
          "text": [
            "accepted\n"
          ]
        }
      ]
    },
    {
      "cell_type": "code",
      "metadata": {
        "colab": {
          "base_uri": "https://localhost:8080/"
        },
        "id": "HVQqebyKHb01",
        "outputId": "c6ca71e5-3dbc-434d-f572-2944f79c95ca"
      },
      "source": [
        "try:\n",
        "  dfa.read_input('011')  # raises RejectionException\n",
        "except:\n",
        "  print(\"Palavra não reconhecida\")"
      ],
      "execution_count": null,
      "outputs": [
        {
          "output_type": "stream",
          "name": "stdout",
          "text": [
            "Palavra não reconhecida\n"
          ]
        }
      ]
    }
  ]
}
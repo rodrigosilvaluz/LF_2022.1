{
  "nbformat": 4,
  "nbformat_minor": 0,
  "metadata": {
    "colab": {
      "name": "Aula 03 - Linguagens Formais.ipynb",
      "provenance": [],
      "collapsed_sections": [
        "b_buLLoHSymo",
        "n9veEy_aWeBK"
      ]
    },
    "kernelspec": {
      "name": "python3",
      "display_name": "Python 3"
    },
    "language_info": {
      "name": "python"
    }
  },
  "cells": [
    {
      "cell_type": "markdown",
      "source": [
        "# **Aula 03**\n",
        "\n",
        "**Disciplina: Linguagens Formais**\n",
        "\n",
        "**prof: Sérgio Assunção Monteiro, DSc**\n"
      ],
      "metadata": {
        "id": "dBBMo63PS80T"
      }
    },
    {
      "cell_type": "markdown",
      "metadata": {
        "id": "ISaInLYNRqsd"
      },
      "source": [
        "## **AFN com transições vazias**\n",
        "\n",
        "**biblioteca:** visual-automata \n",
        "\n",
        "**url:** https://github.com/lewiuberg/visual-automata"
      ]
    },
    {
      "cell_type": "markdown",
      "metadata": {
        "id": "b_buLLoHSymo"
      },
      "source": [
        "# **instalação**"
      ]
    },
    {
      "cell_type": "code",
      "metadata": {
        "colab": {
          "base_uri": "https://localhost:8080/"
        },
        "id": "Txo1sYSlS2Hd",
        "outputId": "47a5650c-55af-4480-c8b7-0f0965df7a97"
      },
      "source": [
        "pip install automata-lib"
      ],
      "execution_count": null,
      "outputs": [
        {
          "output_type": "stream",
          "name": "stdout",
          "text": [
            "Collecting automata-lib\n",
            "  Downloading automata_lib-5.0.0-py3-none-any.whl (32 kB)\n",
            "Requirement already satisfied: pydot in /usr/local/lib/python3.7/dist-packages (from automata-lib) (1.3.0)\n",
            "Requirement already satisfied: pyparsing>=2.1.4 in /usr/local/lib/python3.7/dist-packages (from pydot->automata-lib) (2.4.7)\n",
            "Installing collected packages: automata-lib\n",
            "Successfully installed automata-lib-5.0.0\n"
          ]
        }
      ]
    },
    {
      "cell_type": "code",
      "metadata": {
        "colab": {
          "base_uri": "https://localhost:8080/"
        },
        "id": "hQfB5I9VS5nu",
        "outputId": "040dc551-b861-4522-8525-b1f2e8732b2c"
      },
      "source": [
        "pip install pandas"
      ],
      "execution_count": null,
      "outputs": [
        {
          "output_type": "stream",
          "name": "stdout",
          "text": [
            "Requirement already satisfied: pandas in /usr/local/lib/python3.7/dist-packages (1.1.5)\n",
            "Requirement already satisfied: numpy>=1.15.4 in /usr/local/lib/python3.7/dist-packages (from pandas) (1.19.5)\n",
            "Requirement already satisfied: pytz>=2017.2 in /usr/local/lib/python3.7/dist-packages (from pandas) (2018.9)\n",
            "Requirement already satisfied: python-dateutil>=2.7.3 in /usr/local/lib/python3.7/dist-packages (from pandas) (2.8.2)\n",
            "Requirement already satisfied: six>=1.5 in /usr/local/lib/python3.7/dist-packages (from python-dateutil>=2.7.3->pandas) (1.15.0)\n"
          ]
        }
      ]
    },
    {
      "cell_type": "code",
      "metadata": {
        "colab": {
          "base_uri": "https://localhost:8080/"
        },
        "id": "YtBDXYjvS9Yt",
        "outputId": "ce27541c-8bda-4a0b-ea0f-7f8ded3391b3"
      },
      "source": [
        "pip install graphviz"
      ],
      "execution_count": null,
      "outputs": [
        {
          "output_type": "stream",
          "name": "stdout",
          "text": [
            "Requirement already satisfied: graphviz in /usr/local/lib/python3.7/dist-packages (0.10.1)\n"
          ]
        }
      ]
    },
    {
      "cell_type": "code",
      "metadata": {
        "colab": {
          "base_uri": "https://localhost:8080/"
        },
        "id": "EDraXs1XS_7N",
        "outputId": "036415aa-5486-48c6-b0ce-20f2a9257e1b"
      },
      "source": [
        "pip install colormath"
      ],
      "execution_count": null,
      "outputs": [
        {
          "output_type": "stream",
          "name": "stdout",
          "text": [
            "Collecting colormath\n",
            "  Downloading colormath-3.0.0.tar.gz (39 kB)\n",
            "Requirement already satisfied: numpy in /usr/local/lib/python3.7/dist-packages (from colormath) (1.19.5)\n",
            "Requirement already satisfied: networkx>=2.0 in /usr/local/lib/python3.7/dist-packages (from colormath) (2.6.3)\n",
            "Building wheels for collected packages: colormath\n",
            "  Building wheel for colormath (setup.py) ... \u001b[?25l\u001b[?25hdone\n",
            "  Created wheel for colormath: filename=colormath-3.0.0-py3-none-any.whl size=39408 sha256=0b035cace78233938597ec531b70bcb721d4fe79bf9a91e3330cc42063b650e5\n",
            "  Stored in directory: /root/.cache/pip/wheels/1a/d7/a7/458a4632ccc8bfe436f5e9db9fef1aa84e5d243a1b4b4c7b59\n",
            "Successfully built colormath\n",
            "Installing collected packages: colormath\n",
            "Successfully installed colormath-3.0.0\n"
          ]
        }
      ]
    },
    {
      "cell_type": "code",
      "metadata": {
        "colab": {
          "base_uri": "https://localhost:8080/",
          "height": 1000
        },
        "id": "HuqDjEuNTCYN",
        "outputId": "6bdddbc0-ed81-4dcd-d606-d7b4fb01dcb9"
      },
      "source": [
        "pip install visual-automata"
      ],
      "execution_count": null,
      "outputs": [
        {
          "output_type": "stream",
          "name": "stdout",
          "text": [
            "Collecting visual-automata\n",
            "  Downloading visual_automata-1.1.1-py3-none-any.whl (15 kB)\n",
            "Collecting jupyterlab\n",
            "  Downloading jupyterlab-3.2.0-py3-none-any.whl (8.6 MB)\n",
            "\u001b[K     |████████████████████████████████| 8.6 MB 5.4 MB/s \n",
            "\u001b[?25hRequirement already satisfied: graphviz in /usr/local/lib/python3.7/dist-packages (from visual-automata) (0.10.1)\n",
            "Requirement already satisfied: colormath in /usr/local/lib/python3.7/dist-packages (from visual-automata) (3.0.0)\n",
            "Requirement already satisfied: automata-lib in /usr/local/lib/python3.7/dist-packages (from visual-automata) (5.0.0)\n",
            "Requirement already satisfied: pandas in /usr/local/lib/python3.7/dist-packages (from visual-automata) (1.1.5)\n",
            "Collecting forbiddenfruit\n",
            "  Downloading forbiddenfruit-0.1.4.tar.gz (43 kB)\n",
            "\u001b[K     |████████████████████████████████| 43 kB 2.1 MB/s \n",
            "\u001b[?25hRequirement already satisfied: pydot in /usr/local/lib/python3.7/dist-packages (from automata-lib->visual-automata) (1.3.0)\n",
            "Requirement already satisfied: numpy in /usr/local/lib/python3.7/dist-packages (from colormath->visual-automata) (1.19.5)\n",
            "Requirement already satisfied: networkx>=2.0 in /usr/local/lib/python3.7/dist-packages (from colormath->visual-automata) (2.6.3)\n",
            "Requirement already satisfied: jinja2>=2.1 in /usr/local/lib/python3.7/dist-packages (from jupyterlab->visual-automata) (2.11.3)\n",
            "Collecting jupyterlab-server~=2.3\n",
            "  Downloading jupyterlab_server-2.8.2-py3-none-any.whl (58 kB)\n",
            "\u001b[K     |████████████████████████████████| 58 kB 3.2 MB/s \n",
            "\u001b[?25hCollecting tornado>=6.1.0\n",
            "  Downloading tornado-6.1-cp37-cp37m-manylinux2010_x86_64.whl (428 kB)\n",
            "\u001b[K     |████████████████████████████████| 428 kB 38.7 MB/s \n",
            "\u001b[?25hRequirement already satisfied: ipython in /usr/local/lib/python3.7/dist-packages (from jupyterlab->visual-automata) (5.5.0)\n",
            "Collecting nbclassic~=0.2\n",
            "  Downloading nbclassic-0.3.2-py3-none-any.whl (18 kB)\n",
            "Requirement already satisfied: packaging in /usr/local/lib/python3.7/dist-packages (from jupyterlab->visual-automata) (21.0)\n",
            "Collecting jupyter-server~=1.4\n",
            "  Downloading jupyter_server-1.11.1-py3-none-any.whl (393 kB)\n",
            "\u001b[K     |████████████████████████████████| 393 kB 30.3 MB/s \n",
            "\u001b[?25hRequirement already satisfied: jupyter-core in /usr/local/lib/python3.7/dist-packages (from jupyterlab->visual-automata) (4.8.1)\n",
            "Requirement already satisfied: MarkupSafe>=0.23 in /usr/local/lib/python3.7/dist-packages (from jinja2>=2.1->jupyterlab->visual-automata) (2.0.1)\n",
            "Requirement already satisfied: terminado>=0.8.3 in /usr/local/lib/python3.7/dist-packages (from jupyter-server~=1.4->jupyterlab->visual-automata) (0.12.1)\n",
            "Collecting anyio<4,>=3.1.0\n",
            "  Downloading anyio-3.3.4-py3-none-any.whl (78 kB)\n",
            "\u001b[K     |████████████████████████████████| 78 kB 5.2 MB/s \n",
            "\u001b[?25hRequirement already satisfied: traitlets>=4.2.1 in /usr/local/lib/python3.7/dist-packages (from jupyter-server~=1.4->jupyterlab->visual-automata) (5.1.0)\n",
            "Requirement already satisfied: prometheus-client in /usr/local/lib/python3.7/dist-packages (from jupyter-server~=1.4->jupyterlab->visual-automata) (0.11.0)\n",
            "Collecting websocket-client\n",
            "  Downloading websocket_client-1.2.1-py2.py3-none-any.whl (52 kB)\n",
            "\u001b[K     |████████████████████████████████| 52 kB 1.4 MB/s \n",
            "\u001b[?25hRequirement already satisfied: argon2-cffi in /usr/local/lib/python3.7/dist-packages (from jupyter-server~=1.4->jupyterlab->visual-automata) (21.1.0)\n",
            "Requirement already satisfied: Send2Trash in /usr/local/lib/python3.7/dist-packages (from jupyter-server~=1.4->jupyterlab->visual-automata) (1.8.0)\n",
            "Collecting jupyter-client>=6.1.1\n",
            "  Downloading jupyter_client-7.0.6-py3-none-any.whl (125 kB)\n",
            "\u001b[K     |████████████████████████████████| 125 kB 60.1 MB/s \n",
            "\u001b[?25hRequirement already satisfied: nbformat in /usr/local/lib/python3.7/dist-packages (from jupyter-server~=1.4->jupyterlab->visual-automata) (5.1.3)\n",
            "Collecting requests-unixsocket\n",
            "  Downloading requests_unixsocket-0.2.0-py2.py3-none-any.whl (11 kB)\n",
            "Requirement already satisfied: pyzmq>=17 in /usr/local/lib/python3.7/dist-packages (from jupyter-server~=1.4->jupyterlab->visual-automata) (22.3.0)\n",
            "Requirement already satisfied: ipython-genutils in /usr/local/lib/python3.7/dist-packages (from jupyter-server~=1.4->jupyterlab->visual-automata) (0.2.0)\n",
            "Requirement already satisfied: nbconvert in /usr/local/lib/python3.7/dist-packages (from jupyter-server~=1.4->jupyterlab->visual-automata) (5.6.1)\n",
            "Requirement already satisfied: idna>=2.8 in /usr/local/lib/python3.7/dist-packages (from anyio<4,>=3.1.0->jupyter-server~=1.4->jupyterlab->visual-automata) (2.10)\n",
            "Collecting sniffio>=1.1\n",
            "  Downloading sniffio-1.2.0-py3-none-any.whl (10 kB)\n",
            "Requirement already satisfied: typing-extensions in /usr/local/lib/python3.7/dist-packages (from anyio<4,>=3.1.0->jupyter-server~=1.4->jupyterlab->visual-automata) (3.7.4.3)\n",
            "Requirement already satisfied: entrypoints in /usr/local/lib/python3.7/dist-packages (from jupyter-client>=6.1.1->jupyter-server~=1.4->jupyterlab->visual-automata) (0.3)\n",
            "Requirement already satisfied: python-dateutil>=2.1 in /usr/local/lib/python3.7/dist-packages (from jupyter-client>=6.1.1->jupyter-server~=1.4->jupyterlab->visual-automata) (2.8.2)\n",
            "Requirement already satisfied: nest-asyncio>=1.5 in /usr/local/lib/python3.7/dist-packages (from jupyter-client>=6.1.1->jupyter-server~=1.4->jupyterlab->visual-automata) (1.5.1)\n",
            "Requirement already satisfied: requests in /usr/local/lib/python3.7/dist-packages (from jupyterlab-server~=2.3->jupyterlab->visual-automata) (2.23.0)\n",
            "Collecting json5\n",
            "  Downloading json5-0.9.6-py2.py3-none-any.whl (18 kB)\n",
            "Collecting jsonschema>=3.0.1\n",
            "  Downloading jsonschema-4.1.0-py3-none-any.whl (69 kB)\n",
            "\u001b[K     |████████████████████████████████| 69 kB 4.8 MB/s \n",
            "\u001b[?25hRequirement already satisfied: babel in /usr/local/lib/python3.7/dist-packages (from jupyterlab-server~=2.3->jupyterlab->visual-automata) (2.9.1)\n",
            "Requirement already satisfied: attrs>=17.4.0 in /usr/local/lib/python3.7/dist-packages (from jsonschema>=3.0.1->jupyterlab-server~=2.3->jupyterlab->visual-automata) (21.2.0)\n",
            "Requirement already satisfied: pyrsistent!=0.17.0,!=0.17.1,!=0.17.2,>=0.14.0 in /usr/local/lib/python3.7/dist-packages (from jsonschema>=3.0.1->jupyterlab-server~=2.3->jupyterlab->visual-automata) (0.18.0)\n",
            "Requirement already satisfied: importlib-metadata in /usr/local/lib/python3.7/dist-packages (from jsonschema>=3.0.1->jupyterlab-server~=2.3->jupyterlab->visual-automata) (4.8.1)\n",
            "Requirement already satisfied: notebook<7 in /usr/local/lib/python3.7/dist-packages (from nbclassic~=0.2->jupyterlab->visual-automata) (5.3.1)\n",
            "Requirement already satisfied: ipykernel in /usr/local/lib/python3.7/dist-packages (from notebook<7->nbclassic~=0.2->jupyterlab->visual-automata) (4.10.1)\n",
            "Requirement already satisfied: six>=1.5 in /usr/local/lib/python3.7/dist-packages (from python-dateutil>=2.1->jupyter-client>=6.1.1->jupyter-server~=1.4->jupyterlab->visual-automata) (1.15.0)\n",
            "Requirement already satisfied: ptyprocess in /usr/local/lib/python3.7/dist-packages (from terminado>=0.8.3->jupyter-server~=1.4->jupyterlab->visual-automata) (0.7.0)\n",
            "Requirement already satisfied: cffi>=1.0.0 in /usr/local/lib/python3.7/dist-packages (from argon2-cffi->jupyter-server~=1.4->jupyterlab->visual-automata) (1.14.6)\n",
            "Requirement already satisfied: pycparser in /usr/local/lib/python3.7/dist-packages (from cffi>=1.0.0->argon2-cffi->jupyter-server~=1.4->jupyterlab->visual-automata) (2.20)\n",
            "Requirement already satisfied: pytz>=2015.7 in /usr/local/lib/python3.7/dist-packages (from babel->jupyterlab-server~=2.3->jupyterlab->visual-automata) (2018.9)\n",
            "Requirement already satisfied: zipp>=0.5 in /usr/local/lib/python3.7/dist-packages (from importlib-metadata->jsonschema>=3.0.1->jupyterlab-server~=2.3->jupyterlab->visual-automata) (3.6.0)\n",
            "Requirement already satisfied: pickleshare in /usr/local/lib/python3.7/dist-packages (from ipython->jupyterlab->visual-automata) (0.7.5)\n",
            "Requirement already satisfied: setuptools>=18.5 in /usr/local/lib/python3.7/dist-packages (from ipython->jupyterlab->visual-automata) (57.4.0)\n",
            "Requirement already satisfied: decorator in /usr/local/lib/python3.7/dist-packages (from ipython->jupyterlab->visual-automata) (4.4.2)\n",
            "Requirement already satisfied: prompt-toolkit<2.0.0,>=1.0.4 in /usr/local/lib/python3.7/dist-packages (from ipython->jupyterlab->visual-automata) (1.0.18)\n",
            "Requirement already satisfied: simplegeneric>0.8 in /usr/local/lib/python3.7/dist-packages (from ipython->jupyterlab->visual-automata) (0.8.1)\n",
            "Requirement already satisfied: pexpect in /usr/local/lib/python3.7/dist-packages (from ipython->jupyterlab->visual-automata) (4.8.0)\n",
            "Requirement already satisfied: pygments in /usr/local/lib/python3.7/dist-packages (from ipython->jupyterlab->visual-automata) (2.6.1)\n",
            "Requirement already satisfied: wcwidth in /usr/local/lib/python3.7/dist-packages (from prompt-toolkit<2.0.0,>=1.0.4->ipython->jupyterlab->visual-automata) (0.2.5)\n",
            "Requirement already satisfied: bleach in /usr/local/lib/python3.7/dist-packages (from nbconvert->jupyter-server~=1.4->jupyterlab->visual-automata) (4.1.0)\n",
            "Requirement already satisfied: defusedxml in /usr/local/lib/python3.7/dist-packages (from nbconvert->jupyter-server~=1.4->jupyterlab->visual-automata) (0.7.1)\n",
            "Requirement already satisfied: testpath in /usr/local/lib/python3.7/dist-packages (from nbconvert->jupyter-server~=1.4->jupyterlab->visual-automata) (0.5.0)\n",
            "Requirement already satisfied: mistune<2,>=0.8.1 in /usr/local/lib/python3.7/dist-packages (from nbconvert->jupyter-server~=1.4->jupyterlab->visual-automata) (0.8.4)\n",
            "Requirement already satisfied: pandocfilters>=1.4.1 in /usr/local/lib/python3.7/dist-packages (from nbconvert->jupyter-server~=1.4->jupyterlab->visual-automata) (1.5.0)\n",
            "Requirement already satisfied: webencodings in /usr/local/lib/python3.7/dist-packages (from bleach->nbconvert->jupyter-server~=1.4->jupyterlab->visual-automata) (0.5.1)\n",
            "Requirement already satisfied: pyparsing>=2.0.2 in /usr/local/lib/python3.7/dist-packages (from packaging->jupyterlab->visual-automata) (2.4.7)\n",
            "Requirement already satisfied: certifi>=2017.4.17 in /usr/local/lib/python3.7/dist-packages (from requests->jupyterlab-server~=2.3->jupyterlab->visual-automata) (2021.5.30)\n",
            "Requirement already satisfied: chardet<4,>=3.0.2 in /usr/local/lib/python3.7/dist-packages (from requests->jupyterlab-server~=2.3->jupyterlab->visual-automata) (3.0.4)\n",
            "Requirement already satisfied: urllib3!=1.25.0,!=1.25.1,<1.26,>=1.21.1 in /usr/local/lib/python3.7/dist-packages (from requests->jupyterlab-server~=2.3->jupyterlab->visual-automata) (1.24.3)\n",
            "Building wheels for collected packages: forbiddenfruit\n",
            "  Building wheel for forbiddenfruit (setup.py) ... \u001b[?25l\u001b[?25hdone\n",
            "  Created wheel for forbiddenfruit: filename=forbiddenfruit-0.1.4-py3-none-any.whl size=21810 sha256=40f234fd8763ac45c5ac3ad6715d640a784945a3a7529eab4690cd404073b375\n",
            "  Stored in directory: /root/.cache/pip/wheels/ab/b1/d4/d715c0964da2cbf9f773760b9cf9352405eb4e6a988ffd2606\n",
            "Successfully built forbiddenfruit\n",
            "Installing collected packages: tornado, jsonschema, sniffio, jupyter-client, websocket-client, requests-unixsocket, anyio, jupyter-server, json5, nbclassic, jupyterlab-server, jupyterlab, forbiddenfruit, visual-automata\n",
            "  Attempting uninstall: tornado\n",
            "    Found existing installation: tornado 5.1.1\n",
            "    Uninstalling tornado-5.1.1:\n",
            "      Successfully uninstalled tornado-5.1.1\n",
            "  Attempting uninstall: jsonschema\n",
            "    Found existing installation: jsonschema 2.6.0\n",
            "    Uninstalling jsonschema-2.6.0:\n",
            "      Successfully uninstalled jsonschema-2.6.0\n",
            "  Attempting uninstall: jupyter-client\n",
            "    Found existing installation: jupyter-client 5.3.5\n",
            "    Uninstalling jupyter-client-5.3.5:\n",
            "      Successfully uninstalled jupyter-client-5.3.5\n",
            "\u001b[31mERROR: pip's dependency resolver does not currently take into account all the packages that are installed. This behaviour is the source of the following dependency conflicts.\n",
            "google-colab 1.0.0 requires tornado~=5.1.0; python_version >= \"3.0\", but you have tornado 6.1 which is incompatible.\u001b[0m\n",
            "Successfully installed anyio-3.3.4 forbiddenfruit-0.1.4 json5-0.9.6 jsonschema-4.1.0 jupyter-client-7.0.6 jupyter-server-1.11.1 jupyterlab-3.2.0 jupyterlab-server-2.8.2 nbclassic-0.3.2 requests-unixsocket-0.2.0 sniffio-1.2.0 tornado-6.1 visual-automata-1.1.1 websocket-client-1.2.1\n"
          ]
        },
        {
          "output_type": "display_data",
          "data": {
            "application/vnd.colab-display-data+json": {
              "pip_warning": {
                "packages": [
                  "jupyter_client",
                  "tornado"
                ]
              }
            }
          },
          "metadata": {}
        }
      ]
    },
    {
      "cell_type": "markdown",
      "metadata": {
        "id": "YxGC4zjgTIz8"
      },
      "source": [
        "## **Exemplo de AFN com transições vazias**"
      ]
    },
    {
      "cell_type": "code",
      "metadata": {
        "id": "M-Od6c4wTSzM"
      },
      "source": [
        "from visual_automata.fa.nfa import VisualNFA"
      ],
      "execution_count": null,
      "outputs": []
    },
    {
      "cell_type": "code",
      "metadata": {
        "id": "oh3c7r-XTa_t"
      },
      "source": [
        "nfa = VisualNFA(\n",
        "    states={\"q0\", \"q1\", \"q2\"},\n",
        "    input_symbols={\"0\", \"1\"},\n",
        "    transitions={\n",
        "        \"q0\": {\"\": {\"q2\"}, \"1\": {\"q1\"}},\n",
        "        \"q1\": {\"1\": {\"q2\"}, \"0\": {\"q0\", \"q2\"}},\n",
        "        \"q2\": {},\n",
        "    },\n",
        "    initial_state=\"q0\",\n",
        "    final_states={\"q0\"},\n",
        ")"
      ],
      "execution_count": null,
      "outputs": []
    },
    {
      "cell_type": "code",
      "metadata": {
        "colab": {
          "base_uri": "https://localhost:8080/",
          "height": 143
        },
        "id": "fTmhzd8gToR9",
        "outputId": "75899ae7-2ef7-4473-a8dc-36d760406dae"
      },
      "source": [
        "nfa.table"
      ],
      "execution_count": null,
      "outputs": [
        {
          "output_type": "execute_result",
          "data": {
            "text/html": [
              "<div>\n",
              "<style scoped>\n",
              "    .dataframe tbody tr th:only-of-type {\n",
              "        vertical-align: middle;\n",
              "    }\n",
              "\n",
              "    .dataframe tbody tr th {\n",
              "        vertical-align: top;\n",
              "    }\n",
              "\n",
              "    .dataframe thead th {\n",
              "        text-align: right;\n",
              "    }\n",
              "</style>\n",
              "<table border=\"1\" class=\"dataframe\">\n",
              "  <thead>\n",
              "    <tr style=\"text-align: right;\">\n",
              "      <th></th>\n",
              "      <th>0</th>\n",
              "      <th>1</th>\n",
              "      <th>λ</th>\n",
              "    </tr>\n",
              "  </thead>\n",
              "  <tbody>\n",
              "    <tr>\n",
              "      <th>→*q0</th>\n",
              "      <td>∅</td>\n",
              "      <td>q1</td>\n",
              "      <td>q2</td>\n",
              "    </tr>\n",
              "    <tr>\n",
              "      <th>q1</th>\n",
              "      <td>{*q0,q2}</td>\n",
              "      <td>q2</td>\n",
              "      <td>∅</td>\n",
              "    </tr>\n",
              "    <tr>\n",
              "      <th>q2</th>\n",
              "      <td>∅</td>\n",
              "      <td>∅</td>\n",
              "      <td>∅</td>\n",
              "    </tr>\n",
              "  </tbody>\n",
              "</table>\n",
              "</div>"
            ],
            "text/plain": [
              "             0   1   λ\n",
              "→*q0         ∅  q1  q2\n",
              "q1    {*q0,q2}  q2   ∅\n",
              "q2           ∅   ∅   ∅"
            ]
          },
          "metadata": {},
          "execution_count": 26
        }
      ]
    },
    {
      "cell_type": "code",
      "metadata": {
        "colab": {
          "base_uri": "https://localhost:8080/",
          "height": 132
        },
        "id": "FRgJUucPW7EJ",
        "outputId": "46d4b242-3013-4945-cfc5-6cff162f897b"
      },
      "source": [
        "nfa.show_diagram()"
      ],
      "execution_count": null,
      "outputs": [
        {
          "output_type": "execute_result",
          "data": {
            "text/plain": [
              "<graphviz.dot.Digraph at 0x7fab46180f10>"
            ],
            "image/svg+xml": "<?xml version=\"1.0\" encoding=\"UTF-8\" standalone=\"no\"?>\n<!DOCTYPE svg PUBLIC \"-//W3C//DTD SVG 1.1//EN\"\n \"http://www.w3.org/Graphics/SVG/1.1/DTD/svg11.dtd\">\n<!-- Generated by graphviz version 2.40.1 (20161225.0304)\n -->\n<!-- Title: %3 Pages: 1 -->\n<svg width=\"285pt\" height=\"83pt\"\n viewBox=\"0.00 0.00 285.39 82.60\" xmlns=\"http://www.w3.org/2000/svg\" xmlns:xlink=\"http://www.w3.org/1999/xlink\">\n<g id=\"graph0\" class=\"graph\" transform=\"scale(1 1) rotate(0) translate(4 78.5963)\">\n<title>%3</title>\n<polygon fill=\"#ffffff\" stroke=\"transparent\" points=\"-4,4 -4,-78.5963 281.3889,-78.5963 281.3889,4 -4,4\"/>\n<!-- Initial -->\n<g id=\"node1\" class=\"node\">\n<title>Initial</title>\n<ellipse fill=\"#000000\" stroke=\"#000000\" cx=\"1.8\" cy=\"-24.7982\" rx=\"1.8\" ry=\"1.8\"/>\n</g>\n<!-- q0 -->\n<g id=\"node2\" class=\"node\">\n<title>q0</title>\n<ellipse fill=\"none\" stroke=\"#000000\" cx=\"65.3982\" cy=\"-24.7982\" rx=\"20.6302\" ry=\"20.6302\"/>\n<ellipse fill=\"none\" stroke=\"#000000\" cx=\"65.3982\" cy=\"-24.7982\" rx=\"24.5979\" ry=\"24.5979\"/>\n<text text-anchor=\"middle\" x=\"65.3982\" y=\"-21.0982\" font-family=\"Times,serif\" font-size=\"14.00\" fill=\"#000000\">q0</text>\n</g>\n<!-- Initial&#45;&gt;q0 -->\n<g id=\"edge1\" class=\"edge\">\n<title>Initial&#45;&gt;q0</title>\n<path fill=\"none\" stroke=\"#000000\" d=\"M3.6348,-24.7982C8.0269,-24.7982 19.6767,-24.7982 31.691,-24.7982\"/>\n<polygon fill=\"#000000\" stroke=\"#000000\" points=\"31.9051,-27.7733 40.4051,-24.7982 31.9051,-21.8233 31.9051,-27.7733\"/>\n</g>\n<!-- q1 -->\n<g id=\"node3\" class=\"node\">\n<title>q1</title>\n<ellipse fill=\"none\" stroke=\"#000000\" cx=\"162.9945\" cy=\"-53.7982\" rx=\"20.5982\" ry=\"20.5982\"/>\n<text text-anchor=\"middle\" x=\"162.9945\" y=\"-50.0982\" font-family=\"Times,serif\" font-size=\"14.00\" fill=\"#000000\">q1</text>\n</g>\n<!-- q0&#45;&gt;q1 -->\n<g id=\"edge3\" class=\"edge\">\n<title>q0&#45;&gt;q1</title>\n<path fill=\"none\" stroke=\"#000000\" d=\"M88.7635,-34.1341C95.0223,-36.4693 101.8215,-38.8587 108.1963,-40.7982 116.5275,-43.3328 125.6943,-45.6773 134.1069,-47.6572\"/>\n<polygon fill=\"#000000\" stroke=\"#000000\" points=\"133.5852,-50.5896 142.5341,-49.5811 134.9095,-44.7888 133.5852,-50.5896\"/>\n<text text-anchor=\"middle\" x=\"116.1963\" y=\"-48.5982\" font-family=\"Times,serif\" font-size=\"14.00\" fill=\"#000000\"> 1 </text>\n</g>\n<!-- q2 -->\n<g id=\"node4\" class=\"node\">\n<title>q2</title>\n<ellipse fill=\"none\" stroke=\"#000000\" cx=\"256.5908\" cy=\"-24.7982\" rx=\"20.5982\" ry=\"20.5982\"/>\n<text text-anchor=\"middle\" x=\"256.5908\" y=\"-21.0982\" font-family=\"Times,serif\" font-size=\"14.00\" fill=\"#000000\">q2</text>\n</g>\n<!-- q0&#45;&gt;q2 -->\n<g id=\"edge2\" class=\"edge\">\n<title>q0&#45;&gt;q2</title>\n<path fill=\"none\" stroke=\"#000000\" d=\"M89.7388,-18.0681C95.7441,-16.5389 102.1798,-15.0102 108.1963,-13.7982 155.9485,-4.1783 170.1867,-4.4788 217.7926,-14.7982 221.1385,-15.5234 224.632,-16.3395 228.0926,-17.1846\"/>\n<polygon fill=\"#000000\" stroke=\"#000000\" points=\"227.5551,-20.117 236.5245,-19.3099 229.0095,-14.3475 227.5551,-20.117\"/>\n<text text-anchor=\"middle\" x=\"162.9945\" y=\"-11.5982\" font-family=\"Times,serif\" font-size=\"14.00\" fill=\"#000000\"> λ </text>\n</g>\n<!-- q1&#45;&gt;q0 -->\n<g id=\"edge5\" class=\"edge\">\n<title>q1&#45;&gt;q0</title>\n<path fill=\"none\" stroke=\"#000000\" d=\"M149.0721,-38.2894C142.2824,-31.8766 133.564,-25.1629 124.1963,-21.7982 116.1286,-18.9004 107.0364,-18.2232 98.4569,-18.6227\"/>\n<polygon fill=\"#000000\" stroke=\"#000000\" points=\"97.9753,-15.6783 89.7661,-19.3809 98.4925,-21.6058 97.9753,-15.6783\"/>\n<text text-anchor=\"middle\" x=\"116.1963\" y=\"-25.5982\" font-family=\"Times,serif\" font-size=\"14.00\" fill=\"#000000\"> 0 </text>\n</g>\n<!-- q1&#45;&gt;q2 -->\n<g id=\"edge4\" class=\"edge\">\n<title>q1&#45;&gt;q2</title>\n<path fill=\"none\" stroke=\"#000000\" d=\"M183.5044,-49.7393C193.8875,-47.4818 206.6261,-44.4002 217.7926,-40.7982 221.5609,-39.5826 225.4777,-38.1621 229.3102,-36.6785\"/>\n<polygon fill=\"#000000\" stroke=\"#000000\" points=\"230.7051,-39.3238 237.4748,-33.3847 228.479,-33.8058 230.7051,-39.3238\"/>\n<text text-anchor=\"middle\" x=\"209.7926\" y=\"-48.5982\" font-family=\"Times,serif\" font-size=\"14.00\" fill=\"#000000\"> 1 </text>\n</g>\n<!-- q1&#45;&gt;q2 -->\n<g id=\"edge6\" class=\"edge\">\n<title>q1&#45;&gt;q2</title>\n<path fill=\"none\" stroke=\"#000000\" d=\"M176.9168,-38.2894C183.7065,-31.8766 192.4249,-25.1629 201.7926,-21.7982 209.9119,-18.8818 219.143,-18.4038 227.6837,-19.0041\"/>\n<polygon fill=\"#000000\" stroke=\"#000000\" points=\"227.4806,-21.9748 236.2586,-19.963 228.1419,-16.0617 227.4806,-21.9748\"/>\n<text text-anchor=\"middle\" x=\"209.7926\" y=\"-25.5982\" font-family=\"Times,serif\" font-size=\"14.00\" fill=\"#000000\"> 0 </text>\n</g>\n</g>\n</svg>\n"
          },
          "metadata": {},
          "execution_count": 30
        }
      ]
    },
    {
      "cell_type": "markdown",
      "metadata": {
        "id": "n9veEy_aWeBK"
      },
      "source": [
        "# **Transformar uma AFN com transições vazias em uma AFN**\n",
        "(Eliminar transições vazias)"
      ]
    },
    {
      "cell_type": "code",
      "metadata": {
        "id": "_oJgGsSIWduH"
      },
      "source": [
        "nfa_eliminated = VisualNFA.eliminate_lambda(nfa)"
      ],
      "execution_count": null,
      "outputs": []
    },
    {
      "cell_type": "code",
      "metadata": {
        "colab": {
          "base_uri": "https://localhost:8080/",
          "height": 143
        },
        "id": "R4qJ9TdGWmn6",
        "outputId": "d78e4400-51ba-4b47-f0e7-4b19e02ef463"
      },
      "source": [
        "nfa_eliminated.table"
      ],
      "execution_count": null,
      "outputs": [
        {
          "output_type": "execute_result",
          "data": {
            "text/html": [
              "<div>\n",
              "<style scoped>\n",
              "    .dataframe tbody tr th:only-of-type {\n",
              "        vertical-align: middle;\n",
              "    }\n",
              "\n",
              "    .dataframe tbody tr th {\n",
              "        vertical-align: top;\n",
              "    }\n",
              "\n",
              "    .dataframe thead th {\n",
              "        text-align: right;\n",
              "    }\n",
              "</style>\n",
              "<table border=\"1\" class=\"dataframe\">\n",
              "  <thead>\n",
              "    <tr style=\"text-align: right;\">\n",
              "      <th></th>\n",
              "      <th>0</th>\n",
              "      <th>1</th>\n",
              "    </tr>\n",
              "  </thead>\n",
              "  <tbody>\n",
              "    <tr>\n",
              "      <th>→*q0</th>\n",
              "      <td>∅</td>\n",
              "      <td>q1</td>\n",
              "    </tr>\n",
              "    <tr>\n",
              "      <th>q1</th>\n",
              "      <td>{*q0,q2}</td>\n",
              "      <td>q2</td>\n",
              "    </tr>\n",
              "    <tr>\n",
              "      <th>q2</th>\n",
              "      <td>∅</td>\n",
              "      <td>∅</td>\n",
              "    </tr>\n",
              "  </tbody>\n",
              "</table>\n",
              "</div>"
            ],
            "text/plain": [
              "             0   1\n",
              "→*q0         ∅  q1\n",
              "q1    {*q0,q2}  q2\n",
              "q2           ∅   ∅"
            ]
          },
          "metadata": {},
          "execution_count": 28
        }
      ]
    },
    {
      "cell_type": "code",
      "metadata": {
        "colab": {
          "base_uri": "https://localhost:8080/",
          "height": 99
        },
        "id": "WXQj8eseWre1",
        "outputId": "c2d7d0d9-fbe7-4224-d768-9b3cb4ae0b12"
      },
      "source": [
        "nfa_eliminated.show_diagram()"
      ],
      "execution_count": null,
      "outputs": [
        {
          "output_type": "execute_result",
          "data": {
            "text/plain": [
              "<graphviz.dot.Digraph at 0x7fab46191810>"
            ],
            "image/svg+xml": "<?xml version=\"1.0\" encoding=\"UTF-8\" standalone=\"no\"?>\n<!DOCTYPE svg PUBLIC \"-//W3C//DTD SVG 1.1//EN\"\n \"http://www.w3.org/Graphics/SVG/1.1/DTD/svg11.dtd\">\n<!-- Generated by graphviz version 2.40.1 (20161225.0304)\n -->\n<!-- Title: %3 Pages: 1 -->\n<svg width=\"285pt\" height=\"58pt\"\n viewBox=\"0.00 0.00 285.39 57.60\" xmlns=\"http://www.w3.org/2000/svg\" xmlns:xlink=\"http://www.w3.org/1999/xlink\">\n<g id=\"graph0\" class=\"graph\" transform=\"scale(1 1) rotate(0) translate(4 53.5963)\">\n<title>%3</title>\n<polygon fill=\"#ffffff\" stroke=\"transparent\" points=\"-4,4 -4,-53.5963 281.3889,-53.5963 281.3889,4 -4,4\"/>\n<!-- Initial -->\n<g id=\"node1\" class=\"node\">\n<title>Initial</title>\n<ellipse fill=\"#000000\" stroke=\"#000000\" cx=\"1.8\" cy=\"-24.7982\" rx=\"1.8\" ry=\"1.8\"/>\n</g>\n<!-- q0 -->\n<g id=\"node2\" class=\"node\">\n<title>q0</title>\n<ellipse fill=\"none\" stroke=\"#000000\" cx=\"65.3982\" cy=\"-24.7982\" rx=\"20.6302\" ry=\"20.6302\"/>\n<ellipse fill=\"none\" stroke=\"#000000\" cx=\"65.3982\" cy=\"-24.7982\" rx=\"24.5979\" ry=\"24.5979\"/>\n<text text-anchor=\"middle\" x=\"65.3982\" y=\"-21.0982\" font-family=\"Times,serif\" font-size=\"14.00\" fill=\"#000000\">q0</text>\n</g>\n<!-- Initial&#45;&gt;q0 -->\n<g id=\"edge1\" class=\"edge\">\n<title>Initial&#45;&gt;q0</title>\n<path fill=\"none\" stroke=\"#000000\" d=\"M3.6348,-24.7982C8.0269,-24.7982 19.6767,-24.7982 31.691,-24.7982\"/>\n<polygon fill=\"#000000\" stroke=\"#000000\" points=\"31.9051,-27.7733 40.4051,-24.7982 31.9051,-21.8233 31.9051,-27.7733\"/>\n</g>\n<!-- q1 -->\n<g id=\"node3\" class=\"node\">\n<title>q1</title>\n<ellipse fill=\"none\" stroke=\"#000000\" cx=\"162.9945\" cy=\"-24.7982\" rx=\"20.5982\" ry=\"20.5982\"/>\n<text text-anchor=\"middle\" x=\"162.9945\" y=\"-21.0982\" font-family=\"Times,serif\" font-size=\"14.00\" fill=\"#000000\">q1</text>\n</g>\n<!-- q0&#45;&gt;q1 -->\n<g id=\"edge2\" class=\"edge\">\n<title>q0&#45;&gt;q1</title>\n<path fill=\"none\" stroke=\"#000000\" d=\"M90.2783,-24.7982C103.4353,-24.7982 119.6742,-24.7982 133.4663,-24.7982\"/>\n<polygon fill=\"#000000\" stroke=\"#000000\" points=\"133.6194,-27.7733 142.1194,-24.7982 133.6193,-21.8233 133.6194,-27.7733\"/>\n<text text-anchor=\"middle\" x=\"116.1963\" y=\"-28.5982\" font-family=\"Times,serif\" font-size=\"14.00\" fill=\"#000000\"> 1 </text>\n</g>\n<!-- q1&#45;&gt;q0 -->\n<g id=\"edge4\" class=\"edge\">\n<title>q1&#45;&gt;q0</title>\n<path fill=\"none\" stroke=\"#000000\" d=\"M145.0829,-13.9155C138.7206,-10.6305 131.3567,-7.4573 124.1963,-5.7982 114.5946,-3.5733 104.3115,-5.3926 95.0729,-8.6398\"/>\n<polygon fill=\"#000000\" stroke=\"#000000\" points=\"93.6861,-5.9921 86.9316,-11.9483 95.9262,-11.5043 93.6861,-5.9921\"/>\n<text text-anchor=\"middle\" x=\"116.1963\" y=\"-9.5982\" font-family=\"Times,serif\" font-size=\"14.00\" fill=\"#000000\"> 0 </text>\n</g>\n<!-- q2 -->\n<g id=\"node4\" class=\"node\">\n<title>q2</title>\n<ellipse fill=\"none\" stroke=\"#000000\" cx=\"256.5908\" cy=\"-24.7982\" rx=\"20.5982\" ry=\"20.5982\"/>\n<text text-anchor=\"middle\" x=\"256.5908\" y=\"-21.0982\" font-family=\"Times,serif\" font-size=\"14.00\" fill=\"#000000\">q2</text>\n</g>\n<!-- q1&#45;&gt;q2 -->\n<g id=\"edge3\" class=\"edge\">\n<title>q1&#45;&gt;q2</title>\n<path fill=\"none\" stroke=\"#000000\" d=\"M184.2329,-24.7982C196.8866,-24.7982 213.1367,-24.7982 227.0304,-24.7982\"/>\n<polygon fill=\"#000000\" stroke=\"#000000\" points=\"227.2588,-27.7733 235.7588,-24.7982 227.2587,-21.8233 227.2588,-27.7733\"/>\n<text text-anchor=\"middle\" x=\"209.7926\" y=\"-28.5982\" font-family=\"Times,serif\" font-size=\"14.00\" fill=\"#000000\"> 1 </text>\n</g>\n<!-- q1&#45;&gt;q2 -->\n<g id=\"edge5\" class=\"edge\">\n<title>q1&#45;&gt;q2</title>\n<path fill=\"none\" stroke=\"#000000\" d=\"M180.906,-13.9155C187.2683,-10.6305 194.6322,-7.4573 201.7926,-5.7982 211.556,-3.5359 222.0108,-5.9048 231.1435,-9.6457\"/>\n<polygon fill=\"#000000\" stroke=\"#000000\" points=\"230.142,-12.4617 239.1013,-13.3734 232.666,-7.0736 230.142,-12.4617\"/>\n<text text-anchor=\"middle\" x=\"209.7926\" y=\"-9.5982\" font-family=\"Times,serif\" font-size=\"14.00\" fill=\"#000000\"> 0 </text>\n</g>\n</g>\n</svg>\n"
          },
          "metadata": {},
          "execution_count": 29
        }
      ]
    }
  ]
}
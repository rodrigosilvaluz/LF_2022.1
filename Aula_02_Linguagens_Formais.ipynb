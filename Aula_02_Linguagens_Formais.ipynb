{
  "nbformat": 4,
  "nbformat_minor": 0,
  "metadata": {
    "colab": {
      "name": "Aula 02 - Linguagens Formais.ipynb",
      "provenance": [],
      "collapsed_sections": [
        "UEgyBXpYU_Rm",
        "McMVrvMEV13A"
      ]
    },
    "kernelspec": {
      "name": "python3",
      "display_name": "Python 3"
    },
    "language_info": {
      "name": "python"
    }
  },
  "cells": [
    {
      "cell_type": "markdown",
      "source": [
        "# **Aula 02**\n",
        "\n",
        "**Disciplina: Linguagens Formais**\n",
        "\n",
        "**prof: Sérgio Assunção Monteiro, DSc**\n"
      ],
      "metadata": {
        "id": "V00O8Nd-ShB1"
      }
    },
    {
      "cell_type": "markdown",
      "metadata": {
        "id": "iY0zsTXcUx1v"
      },
      "source": [
        "**AFN** \n",
        "**biblioteca:** visual-automata\n",
        "\n",
        "**url:** https://github.com/caleb531/automata\n",
        "\n",
        "**url2:** https://pythonrepo.com/repo/lewiuberg-visual-automata"
      ]
    },
    {
      "cell_type": "markdown",
      "metadata": {
        "id": "UEgyBXpYU_Rm"
      },
      "source": [
        "# **instalação de vários pacotes simultaneamente**"
      ]
    },
    {
      "cell_type": "code",
      "metadata": {
        "colab": {
          "base_uri": "https://localhost:8080/",
          "height": 1000
        },
        "id": "LOjBHi8cUjcN",
        "outputId": "148a88da-0361-4cc0-f67f-7241e24bdb8d"
      },
      "source": [
        "pip install automata-lib pandas graphviz colormath visual-automata"
      ],
      "execution_count": null,
      "outputs": [
        {
          "output_type": "stream",
          "name": "stdout",
          "text": [
            "Collecting automata-lib\n",
            "  Downloading automata_lib-5.0.0-py3-none-any.whl (32 kB)\n",
            "Requirement already satisfied: pandas in /usr/local/lib/python3.7/dist-packages (1.1.5)\n",
            "Requirement already satisfied: graphviz in /usr/local/lib/python3.7/dist-packages (0.10.1)\n",
            "Collecting colormath\n",
            "  Downloading colormath-3.0.0.tar.gz (39 kB)\n",
            "Collecting visual-automata\n",
            "  Downloading visual_automata-1.1.1-py3-none-any.whl (15 kB)\n",
            "Requirement already satisfied: pydot in /usr/local/lib/python3.7/dist-packages (from automata-lib) (1.3.0)\n",
            "Requirement already satisfied: numpy>=1.15.4 in /usr/local/lib/python3.7/dist-packages (from pandas) (1.19.5)\n",
            "Requirement already satisfied: python-dateutil>=2.7.3 in /usr/local/lib/python3.7/dist-packages (from pandas) (2.8.2)\n",
            "Requirement already satisfied: pytz>=2017.2 in /usr/local/lib/python3.7/dist-packages (from pandas) (2018.9)\n",
            "Requirement already satisfied: six>=1.5 in /usr/local/lib/python3.7/dist-packages (from python-dateutil>=2.7.3->pandas) (1.15.0)\n",
            "Requirement already satisfied: networkx>=2.0 in /usr/local/lib/python3.7/dist-packages (from colormath) (2.6.2)\n",
            "Collecting jupyterlab\n",
            "  Downloading jupyterlab-3.1.12-py3-none-any.whl (8.5 MB)\n",
            "\u001b[K     |████████████████████████████████| 8.5 MB 49.7 MB/s \n",
            "\u001b[?25hCollecting forbiddenfruit\n",
            "  Downloading forbiddenfruit-0.1.4.tar.gz (43 kB)\n",
            "\u001b[K     |████████████████████████████████| 43 kB 2.5 MB/s \n",
            "\u001b[?25hCollecting jupyterlab-server~=2.3\n",
            "  Downloading jupyterlab_server-2.8.1-py3-none-any.whl (58 kB)\n",
            "\u001b[K     |████████████████████████████████| 58 kB 7.1 MB/s \n",
            "\u001b[?25hCollecting jupyter-server~=1.4\n",
            "  Downloading jupyter_server-1.11.0-py3-none-any.whl (393 kB)\n",
            "\u001b[K     |████████████████████████████████| 393 kB 54.8 MB/s \n",
            "\u001b[?25hRequirement already satisfied: ipython in /usr/local/lib/python3.7/dist-packages (from jupyterlab->visual-automata) (5.5.0)\n",
            "Collecting nbclassic~=0.2\n",
            "  Downloading nbclassic-0.3.1-py3-none-any.whl (18 kB)\n",
            "Requirement already satisfied: jinja2>=2.1 in /usr/local/lib/python3.7/dist-packages (from jupyterlab->visual-automata) (2.11.3)\n",
            "Requirement already satisfied: packaging in /usr/local/lib/python3.7/dist-packages (from jupyterlab->visual-automata) (21.0)\n",
            "Collecting tornado>=6.1.0\n",
            "  Downloading tornado-6.1-cp37-cp37m-manylinux2010_x86_64.whl (428 kB)\n",
            "\u001b[K     |████████████████████████████████| 428 kB 40.0 MB/s \n",
            "\u001b[?25hRequirement already satisfied: jupyter-core in /usr/local/lib/python3.7/dist-packages (from jupyterlab->visual-automata) (4.7.1)\n",
            "Requirement already satisfied: MarkupSafe>=0.23 in /usr/local/lib/python3.7/dist-packages (from jinja2>=2.1->jupyterlab->visual-automata) (2.0.1)\n",
            "Requirement already satisfied: nbconvert in /usr/local/lib/python3.7/dist-packages (from jupyter-server~=1.4->jupyterlab->visual-automata) (5.6.1)\n",
            "Requirement already satisfied: prometheus-client in /usr/local/lib/python3.7/dist-packages (from jupyter-server~=1.4->jupyterlab->visual-automata) (0.11.0)\n",
            "Requirement already satisfied: pyzmq>=17 in /usr/local/lib/python3.7/dist-packages (from jupyter-server~=1.4->jupyterlab->visual-automata) (22.2.1)\n",
            "Requirement already satisfied: ipython-genutils in /usr/local/lib/python3.7/dist-packages (from jupyter-server~=1.4->jupyterlab->visual-automata) (0.2.0)\n",
            "Requirement already satisfied: terminado>=0.8.3 in /usr/local/lib/python3.7/dist-packages (from jupyter-server~=1.4->jupyterlab->visual-automata) (0.11.0)\n",
            "Collecting anyio<4,>=3.1.0\n",
            "  Downloading anyio-3.3.1-py3-none-any.whl (77 kB)\n",
            "\u001b[K     |████████████████████████████████| 77 kB 7.3 MB/s \n",
            "\u001b[?25hRequirement already satisfied: Send2Trash in /usr/local/lib/python3.7/dist-packages (from jupyter-server~=1.4->jupyterlab->visual-automata) (1.8.0)\n",
            "Collecting websocket-client\n",
            "  Downloading websocket_client-1.2.1-py2.py3-none-any.whl (52 kB)\n",
            "\u001b[K     |████████████████████████████████| 52 kB 1.9 MB/s \n",
            "\u001b[?25hCollecting requests-unixsocket\n",
            "  Downloading requests_unixsocket-0.2.0-py2.py3-none-any.whl (11 kB)\n",
            "Requirement already satisfied: argon2-cffi in /usr/local/lib/python3.7/dist-packages (from jupyter-server~=1.4->jupyterlab->visual-automata) (21.1.0)\n",
            "Collecting jupyter-client>=6.1.1\n",
            "  Downloading jupyter_client-7.0.3-py3-none-any.whl (122 kB)\n",
            "\u001b[K     |████████████████████████████████| 122 kB 45.6 MB/s \n",
            "\u001b[?25hRequirement already satisfied: nbformat in /usr/local/lib/python3.7/dist-packages (from jupyter-server~=1.4->jupyterlab->visual-automata) (5.1.3)\n",
            "Requirement already satisfied: traitlets>=4.2.1 in /usr/local/lib/python3.7/dist-packages (from jupyter-server~=1.4->jupyterlab->visual-automata) (5.0.5)\n",
            "Requirement already satisfied: idna>=2.8 in /usr/local/lib/python3.7/dist-packages (from anyio<4,>=3.1.0->jupyter-server~=1.4->jupyterlab->visual-automata) (2.10)\n",
            "Collecting sniffio>=1.1\n",
            "  Downloading sniffio-1.2.0-py3-none-any.whl (10 kB)\n",
            "Requirement already satisfied: typing-extensions in /usr/local/lib/python3.7/dist-packages (from anyio<4,>=3.1.0->jupyter-server~=1.4->jupyterlab->visual-automata) (3.7.4.3)\n",
            "Requirement already satisfied: nest-asyncio>=1.5 in /usr/local/lib/python3.7/dist-packages (from jupyter-client>=6.1.1->jupyter-server~=1.4->jupyterlab->visual-automata) (1.5.1)\n",
            "Requirement already satisfied: entrypoints in /usr/local/lib/python3.7/dist-packages (from jupyter-client>=6.1.1->jupyter-server~=1.4->jupyterlab->visual-automata) (0.3)\n",
            "Requirement already satisfied: babel in /usr/local/lib/python3.7/dist-packages (from jupyterlab-server~=2.3->jupyterlab->visual-automata) (2.9.1)\n",
            "Collecting jsonschema>=3.0.1\n",
            "  Downloading jsonschema-3.2.0-py2.py3-none-any.whl (56 kB)\n",
            "\u001b[K     |████████████████████████████████| 56 kB 5.0 MB/s \n",
            "\u001b[?25hCollecting json5\n",
            "  Downloading json5-0.9.6-py2.py3-none-any.whl (18 kB)\n",
            "Requirement already satisfied: requests in /usr/local/lib/python3.7/dist-packages (from jupyterlab-server~=2.3->jupyterlab->visual-automata) (2.23.0)\n",
            "Requirement already satisfied: setuptools in /usr/local/lib/python3.7/dist-packages (from jsonschema>=3.0.1->jupyterlab-server~=2.3->jupyterlab->visual-automata) (57.4.0)\n",
            "Requirement already satisfied: pyrsistent>=0.14.0 in /usr/local/lib/python3.7/dist-packages (from jsonschema>=3.0.1->jupyterlab-server~=2.3->jupyterlab->visual-automata) (0.18.0)\n",
            "Requirement already satisfied: attrs>=17.4.0 in /usr/local/lib/python3.7/dist-packages (from jsonschema>=3.0.1->jupyterlab-server~=2.3->jupyterlab->visual-automata) (21.2.0)\n",
            "Requirement already satisfied: importlib-metadata in /usr/local/lib/python3.7/dist-packages (from jsonschema>=3.0.1->jupyterlab-server~=2.3->jupyterlab->visual-automata) (4.6.4)\n",
            "Requirement already satisfied: notebook<7 in /usr/local/lib/python3.7/dist-packages (from nbclassic~=0.2->jupyterlab->visual-automata) (5.3.1)\n",
            "Requirement already satisfied: ipykernel in /usr/local/lib/python3.7/dist-packages (from notebook<7->nbclassic~=0.2->jupyterlab->visual-automata) (4.10.1)\n",
            "Requirement already satisfied: ptyprocess in /usr/local/lib/python3.7/dist-packages (from terminado>=0.8.3->jupyter-server~=1.4->jupyterlab->visual-automata) (0.7.0)\n",
            "Requirement already satisfied: cffi>=1.0.0 in /usr/local/lib/python3.7/dist-packages (from argon2-cffi->jupyter-server~=1.4->jupyterlab->visual-automata) (1.14.6)\n",
            "Requirement already satisfied: pycparser in /usr/local/lib/python3.7/dist-packages (from cffi>=1.0.0->argon2-cffi->jupyter-server~=1.4->jupyterlab->visual-automata) (2.20)\n",
            "Requirement already satisfied: zipp>=0.5 in /usr/local/lib/python3.7/dist-packages (from importlib-metadata->jsonschema>=3.0.1->jupyterlab-server~=2.3->jupyterlab->visual-automata) (3.5.0)\n",
            "Requirement already satisfied: pygments in /usr/local/lib/python3.7/dist-packages (from ipython->jupyterlab->visual-automata) (2.6.1)\n",
            "Requirement already satisfied: decorator in /usr/local/lib/python3.7/dist-packages (from ipython->jupyterlab->visual-automata) (4.4.2)\n",
            "Requirement already satisfied: simplegeneric>0.8 in /usr/local/lib/python3.7/dist-packages (from ipython->jupyterlab->visual-automata) (0.8.1)\n",
            "Requirement already satisfied: pexpect in /usr/local/lib/python3.7/dist-packages (from ipython->jupyterlab->visual-automata) (4.8.0)\n",
            "Requirement already satisfied: pickleshare in /usr/local/lib/python3.7/dist-packages (from ipython->jupyterlab->visual-automata) (0.7.5)\n",
            "Requirement already satisfied: prompt-toolkit<2.0.0,>=1.0.4 in /usr/local/lib/python3.7/dist-packages (from ipython->jupyterlab->visual-automata) (1.0.18)\n",
            "Requirement already satisfied: wcwidth in /usr/local/lib/python3.7/dist-packages (from prompt-toolkit<2.0.0,>=1.0.4->ipython->jupyterlab->visual-automata) (0.2.5)\n",
            "Requirement already satisfied: pandocfilters>=1.4.1 in /usr/local/lib/python3.7/dist-packages (from nbconvert->jupyter-server~=1.4->jupyterlab->visual-automata) (1.4.3)\n",
            "Requirement already satisfied: defusedxml in /usr/local/lib/python3.7/dist-packages (from nbconvert->jupyter-server~=1.4->jupyterlab->visual-automata) (0.7.1)\n",
            "Requirement already satisfied: bleach in /usr/local/lib/python3.7/dist-packages (from nbconvert->jupyter-server~=1.4->jupyterlab->visual-automata) (4.0.0)\n",
            "Requirement already satisfied: mistune<2,>=0.8.1 in /usr/local/lib/python3.7/dist-packages (from nbconvert->jupyter-server~=1.4->jupyterlab->visual-automata) (0.8.4)\n",
            "Requirement already satisfied: testpath in /usr/local/lib/python3.7/dist-packages (from nbconvert->jupyter-server~=1.4->jupyterlab->visual-automata) (0.5.0)\n",
            "Requirement already satisfied: webencodings in /usr/local/lib/python3.7/dist-packages (from bleach->nbconvert->jupyter-server~=1.4->jupyterlab->visual-automata) (0.5.1)\n",
            "Requirement already satisfied: pyparsing>=2.0.2 in /usr/local/lib/python3.7/dist-packages (from packaging->jupyterlab->visual-automata) (2.4.7)\n",
            "Requirement already satisfied: certifi>=2017.4.17 in /usr/local/lib/python3.7/dist-packages (from requests->jupyterlab-server~=2.3->jupyterlab->visual-automata) (2021.5.30)\n",
            "Requirement already satisfied: urllib3!=1.25.0,!=1.25.1,<1.26,>=1.21.1 in /usr/local/lib/python3.7/dist-packages (from requests->jupyterlab-server~=2.3->jupyterlab->visual-automata) (1.24.3)\n",
            "Requirement already satisfied: chardet<4,>=3.0.2 in /usr/local/lib/python3.7/dist-packages (from requests->jupyterlab-server~=2.3->jupyterlab->visual-automata) (3.0.4)\n",
            "Building wheels for collected packages: colormath, forbiddenfruit\n",
            "  Building wheel for colormath (setup.py) ... \u001b[?25l\u001b[?25hdone\n",
            "  Created wheel for colormath: filename=colormath-3.0.0-py3-none-any.whl size=39408 sha256=556736fe7ef7be1751af4764b8f959540a196a024a9821e0b41348f65b2c3a19\n",
            "  Stored in directory: /root/.cache/pip/wheels/1a/d7/a7/458a4632ccc8bfe436f5e9db9fef1aa84e5d243a1b4b4c7b59\n",
            "  Building wheel for forbiddenfruit (setup.py) ... \u001b[?25l\u001b[?25hdone\n",
            "  Created wheel for forbiddenfruit: filename=forbiddenfruit-0.1.4-py3-none-any.whl size=21810 sha256=ee705dcd2eff1b291f4d3eca42d3d36e5afc730b2cc8728cd694389c104a9979\n",
            "  Stored in directory: /root/.cache/pip/wheels/ab/b1/d4/d715c0964da2cbf9f773760b9cf9352405eb4e6a988ffd2606\n",
            "Successfully built colormath forbiddenfruit\n",
            "Installing collected packages: tornado, jsonschema, sniffio, jupyter-client, websocket-client, requests-unixsocket, anyio, jupyter-server, json5, nbclassic, jupyterlab-server, jupyterlab, forbiddenfruit, colormath, automata-lib, visual-automata\n",
            "  Attempting uninstall: tornado\n",
            "    Found existing installation: tornado 5.1.1\n",
            "    Uninstalling tornado-5.1.1:\n",
            "      Successfully uninstalled tornado-5.1.1\n",
            "  Attempting uninstall: jsonschema\n",
            "    Found existing installation: jsonschema 2.6.0\n",
            "    Uninstalling jsonschema-2.6.0:\n",
            "      Successfully uninstalled jsonschema-2.6.0\n",
            "  Attempting uninstall: jupyter-client\n",
            "    Found existing installation: jupyter-client 5.3.5\n",
            "    Uninstalling jupyter-client-5.3.5:\n",
            "      Successfully uninstalled jupyter-client-5.3.5\n",
            "\u001b[31mERROR: pip's dependency resolver does not currently take into account all the packages that are installed. This behaviour is the source of the following dependency conflicts.\n",
            "google-colab 1.0.0 requires tornado~=5.1.0; python_version >= \"3.0\", but you have tornado 6.1 which is incompatible.\u001b[0m\n",
            "Successfully installed anyio-3.3.1 automata-lib-5.0.0 colormath-3.0.0 forbiddenfruit-0.1.4 json5-0.9.6 jsonschema-3.2.0 jupyter-client-7.0.3 jupyter-server-1.11.0 jupyterlab-3.1.12 jupyterlab-server-2.8.1 nbclassic-0.3.1 requests-unixsocket-0.2.0 sniffio-1.2.0 tornado-6.1 visual-automata-1.1.1 websocket-client-1.2.1\n"
          ]
        },
        {
          "output_type": "display_data",
          "data": {
            "application/vnd.colab-display-data+json": {
              "pip_warning": {
                "packages": [
                  "jupyter_client",
                  "tornado"
                ]
              }
            }
          },
          "metadata": {}
        }
      ]
    },
    {
      "cell_type": "markdown",
      "metadata": {
        "id": "McMVrvMEV13A"
      },
      "source": [
        "# **Exemplo de AFN**"
      ]
    },
    {
      "cell_type": "code",
      "metadata": {
        "id": "gYFph-ItVemj"
      },
      "source": [
        "from visual_automata.fa.nfa import VisualNFA"
      ],
      "execution_count": null,
      "outputs": []
    },
    {
      "cell_type": "code",
      "metadata": {
        "id": "PE96bOZpV-k7"
      },
      "source": [
        "nfa = VisualNFA(\n",
        "    states={\"q0\", \"q1\", \"q2\"},\n",
        "    input_symbols={\"0\", \"1\"},\n",
        "    transitions={\n",
        "        \"q0\": {\"0\": {\"q2\"}, \"1\": {\"q1\"}},\n",
        "        \"q1\": {\"1\": {\"q2\"}, \"0\": {\"q0\", \"q2\"}},\n",
        "        \"q2\": {},\n",
        "    },\n",
        "    initial_state=\"q0\",\n",
        "    final_states={\"q0\"},\n",
        ")"
      ],
      "execution_count": null,
      "outputs": []
    },
    {
      "cell_type": "code",
      "metadata": {
        "colab": {
          "base_uri": "https://localhost:8080/",
          "height": 143
        },
        "id": "dyyJ3XX8WCfy",
        "outputId": "fcf03b07-9145-4bcb-b59c-fb552cf7b820"
      },
      "source": [
        "nfa.table"
      ],
      "execution_count": null,
      "outputs": [
        {
          "output_type": "execute_result",
          "data": {
            "text/html": [
              "<div>\n",
              "<style scoped>\n",
              "    .dataframe tbody tr th:only-of-type {\n",
              "        vertical-align: middle;\n",
              "    }\n",
              "\n",
              "    .dataframe tbody tr th {\n",
              "        vertical-align: top;\n",
              "    }\n",
              "\n",
              "    .dataframe thead th {\n",
              "        text-align: right;\n",
              "    }\n",
              "</style>\n",
              "<table border=\"1\" class=\"dataframe\">\n",
              "  <thead>\n",
              "    <tr style=\"text-align: right;\">\n",
              "      <th></th>\n",
              "      <th>0</th>\n",
              "      <th>1</th>\n",
              "    </tr>\n",
              "  </thead>\n",
              "  <tbody>\n",
              "    <tr>\n",
              "      <th>→*q0</th>\n",
              "      <td>q2</td>\n",
              "      <td>q1</td>\n",
              "    </tr>\n",
              "    <tr>\n",
              "      <th>q1</th>\n",
              "      <td>{*q0,q2}</td>\n",
              "      <td>q2</td>\n",
              "    </tr>\n",
              "    <tr>\n",
              "      <th>q2</th>\n",
              "      <td>∅</td>\n",
              "      <td>∅</td>\n",
              "    </tr>\n",
              "  </tbody>\n",
              "</table>\n",
              "</div>"
            ],
            "text/plain": [
              "             0   1\n",
              "→*q0        q2  q1\n",
              "q1    {*q0,q2}  q2\n",
              "q2           ∅   ∅"
            ]
          },
          "metadata": {},
          "execution_count": 5
        }
      ]
    },
    {
      "cell_type": "code",
      "metadata": {
        "colab": {
          "base_uri": "https://localhost:8080/",
          "height": 132
        },
        "id": "82rP0d0eWwi0",
        "outputId": "9ae81535-c5ca-438b-8b13-a5bd5eb9a21c"
      },
      "source": [
        "nfa.show_diagram()"
      ],
      "execution_count": null,
      "outputs": [
        {
          "output_type": "execute_result",
          "data": {
            "text/plain": [
              "<graphviz.dot.Digraph at 0x7febb82ce790>"
            ],
            "image/svg+xml": "<?xml version=\"1.0\" encoding=\"UTF-8\" standalone=\"no\"?>\n<!DOCTYPE svg PUBLIC \"-//W3C//DTD SVG 1.1//EN\"\n \"http://www.w3.org/Graphics/SVG/1.1/DTD/svg11.dtd\">\n<!-- Generated by graphviz version 2.40.1 (20161225.0304)\n -->\n<!-- Title: %3 Pages: 1 -->\n<svg width=\"285pt\" height=\"83pt\"\n viewBox=\"0.00 0.00 285.39 82.60\" xmlns=\"http://www.w3.org/2000/svg\" xmlns:xlink=\"http://www.w3.org/1999/xlink\">\n<g id=\"graph0\" class=\"graph\" transform=\"scale(1 1) rotate(0) translate(4 78.5963)\">\n<title>%3</title>\n<polygon fill=\"#ffffff\" stroke=\"transparent\" points=\"-4,4 -4,-78.5963 281.3889,-78.5963 281.3889,4 -4,4\"/>\n<!-- Initial -->\n<g id=\"node1\" class=\"node\">\n<title>Initial</title>\n<ellipse fill=\"#000000\" stroke=\"#000000\" cx=\"1.8\" cy=\"-24.7982\" rx=\"1.8\" ry=\"1.8\"/>\n</g>\n<!-- q0 -->\n<g id=\"node2\" class=\"node\">\n<title>q0</title>\n<ellipse fill=\"none\" stroke=\"#000000\" cx=\"65.3982\" cy=\"-24.7982\" rx=\"20.6302\" ry=\"20.6302\"/>\n<ellipse fill=\"none\" stroke=\"#000000\" cx=\"65.3982\" cy=\"-24.7982\" rx=\"24.5979\" ry=\"24.5979\"/>\n<text text-anchor=\"middle\" x=\"65.3982\" y=\"-21.0982\" font-family=\"Times,serif\" font-size=\"14.00\" fill=\"#000000\">q0</text>\n</g>\n<!-- Initial&#45;&gt;q0 -->\n<g id=\"edge1\" class=\"edge\">\n<title>Initial&#45;&gt;q0</title>\n<path fill=\"none\" stroke=\"#000000\" d=\"M3.6348,-24.7982C8.0269,-24.7982 19.6767,-24.7982 31.691,-24.7982\"/>\n<polygon fill=\"#000000\" stroke=\"#000000\" points=\"31.9051,-27.7733 40.4051,-24.7982 31.9051,-21.8233 31.9051,-27.7733\"/>\n</g>\n<!-- q1 -->\n<g id=\"node3\" class=\"node\">\n<title>q1</title>\n<ellipse fill=\"none\" stroke=\"#000000\" cx=\"162.9945\" cy=\"-53.7982\" rx=\"20.5982\" ry=\"20.5982\"/>\n<text text-anchor=\"middle\" x=\"162.9945\" y=\"-50.0982\" font-family=\"Times,serif\" font-size=\"14.00\" fill=\"#000000\">q1</text>\n</g>\n<!-- q0&#45;&gt;q1 -->\n<g id=\"edge3\" class=\"edge\">\n<title>q0&#45;&gt;q1</title>\n<path fill=\"none\" stroke=\"#000000\" d=\"M88.7635,-34.1341C95.0223,-36.4693 101.8215,-38.8587 108.1963,-40.7982 116.5275,-43.3328 125.6943,-45.6773 134.1069,-47.6572\"/>\n<polygon fill=\"#000000\" stroke=\"#000000\" points=\"133.5852,-50.5896 142.5341,-49.5811 134.9095,-44.7888 133.5852,-50.5896\"/>\n<text text-anchor=\"middle\" x=\"116.1963\" y=\"-48.5982\" font-family=\"Times,serif\" font-size=\"14.00\" fill=\"#000000\"> 1 </text>\n</g>\n<!-- q2 -->\n<g id=\"node4\" class=\"node\">\n<title>q2</title>\n<ellipse fill=\"none\" stroke=\"#000000\" cx=\"256.5908\" cy=\"-24.7982\" rx=\"20.5982\" ry=\"20.5982\"/>\n<text text-anchor=\"middle\" x=\"256.5908\" y=\"-21.0982\" font-family=\"Times,serif\" font-size=\"14.00\" fill=\"#000000\">q2</text>\n</g>\n<!-- q0&#45;&gt;q2 -->\n<g id=\"edge2\" class=\"edge\">\n<title>q0&#45;&gt;q2</title>\n<path fill=\"none\" stroke=\"#000000\" d=\"M89.7388,-18.0681C95.7441,-16.5389 102.1798,-15.0102 108.1963,-13.7982 155.9485,-4.1783 170.1867,-4.4788 217.7926,-14.7982 221.1385,-15.5234 224.632,-16.3395 228.0926,-17.1846\"/>\n<polygon fill=\"#000000\" stroke=\"#000000\" points=\"227.5551,-20.117 236.5245,-19.3099 229.0095,-14.3475 227.5551,-20.117\"/>\n<text text-anchor=\"middle\" x=\"162.9945\" y=\"-11.5982\" font-family=\"Times,serif\" font-size=\"14.00\" fill=\"#000000\"> 0 </text>\n</g>\n<!-- q1&#45;&gt;q0 -->\n<g id=\"edge5\" class=\"edge\">\n<title>q1&#45;&gt;q0</title>\n<path fill=\"none\" stroke=\"#000000\" d=\"M149.0721,-38.2894C142.2824,-31.8766 133.564,-25.1629 124.1963,-21.7982 116.1286,-18.9004 107.0364,-18.2232 98.4569,-18.6227\"/>\n<polygon fill=\"#000000\" stroke=\"#000000\" points=\"97.9753,-15.6783 89.7661,-19.3809 98.4925,-21.6058 97.9753,-15.6783\"/>\n<text text-anchor=\"middle\" x=\"116.1963\" y=\"-25.5982\" font-family=\"Times,serif\" font-size=\"14.00\" fill=\"#000000\"> 0 </text>\n</g>\n<!-- q1&#45;&gt;q2 -->\n<g id=\"edge4\" class=\"edge\">\n<title>q1&#45;&gt;q2</title>\n<path fill=\"none\" stroke=\"#000000\" d=\"M183.5044,-49.7393C193.8875,-47.4818 206.6261,-44.4002 217.7926,-40.7982 221.5609,-39.5826 225.4777,-38.1621 229.3102,-36.6785\"/>\n<polygon fill=\"#000000\" stroke=\"#000000\" points=\"230.7051,-39.3238 237.4748,-33.3847 228.479,-33.8058 230.7051,-39.3238\"/>\n<text text-anchor=\"middle\" x=\"209.7926\" y=\"-48.5982\" font-family=\"Times,serif\" font-size=\"14.00\" fill=\"#000000\"> 1 </text>\n</g>\n<!-- q1&#45;&gt;q2 -->\n<g id=\"edge6\" class=\"edge\">\n<title>q1&#45;&gt;q2</title>\n<path fill=\"none\" stroke=\"#000000\" d=\"M176.9168,-38.2894C183.7065,-31.8766 192.4249,-25.1629 201.7926,-21.7982 209.9119,-18.8818 219.143,-18.4038 227.6837,-19.0041\"/>\n<polygon fill=\"#000000\" stroke=\"#000000\" points=\"227.4806,-21.9748 236.2586,-19.963 228.1419,-16.0617 227.4806,-21.9748\"/>\n<text text-anchor=\"middle\" x=\"209.7926\" y=\"-25.5982\" font-family=\"Times,serif\" font-size=\"14.00\" fill=\"#000000\"> 0 </text>\n</g>\n</g>\n</svg>\n"
          },
          "metadata": {},
          "execution_count": 6
        }
      ]
    },
    {
      "cell_type": "markdown",
      "metadata": {
        "id": "Edblnv49aXPZ"
      },
      "source": [
        "**Converter AFN para AFD**"
      ]
    },
    {
      "cell_type": "code",
      "metadata": {
        "id": "OQuBW189bF5V"
      },
      "source": [
        "from automata.fa.nfa import NFA\n",
        "from automata.fa.dfa import DFA\n"
      ],
      "execution_count": null,
      "outputs": []
    },
    {
      "cell_type": "code",
      "metadata": {
        "id": "_ZmNIuYWjij9"
      },
      "source": [
        "nfa2 = NFA(\n",
        "    states={\"q0\", \"q1\", \"q2\"},\n",
        "    input_symbols={\"0\", \"1\"},\n",
        "    transitions={\n",
        "        \"q0\": {\"0\": {\"q2\"}, \"1\": {\"q1\"}},\n",
        "        \"q1\": {\"1\": {\"q2\"}, \"0\": {\"q0\", \"q2\"}},\n",
        "        \"q2\": {},\n",
        "    },\n",
        "    initial_state=\"q0\",\n",
        "    final_states={\"q0\"},\n",
        ")"
      ],
      "execution_count": null,
      "outputs": []
    },
    {
      "cell_type": "code",
      "metadata": {
        "id": "nkvH5waDaa5G"
      },
      "source": [
        "dfa = DFA.from_nfa(nfa2)  # returns an equivalent NFA"
      ],
      "execution_count": null,
      "outputs": []
    },
    {
      "cell_type": "code",
      "metadata": {
        "id": "e8yA5k3XldB9"
      },
      "source": [
        "from visual_automata.fa.dfa import VisualDFA"
      ],
      "execution_count": null,
      "outputs": []
    },
    {
      "cell_type": "code",
      "metadata": {
        "id": "AKXbXh7ulfG3"
      },
      "source": [
        "dfa2 = VisualDFA(dfa)"
      ],
      "execution_count": null,
      "outputs": []
    },
    {
      "cell_type": "code",
      "metadata": {
        "colab": {
          "base_uri": "https://localhost:8080/",
          "height": 206
        },
        "id": "gOLA3ruBlwjb",
        "outputId": "fe8e8969-d2bd-4c6f-e936-d69ddb0402b3"
      },
      "source": [
        "dfa2.table"
      ],
      "execution_count": null,
      "outputs": [
        {
          "output_type": "execute_result",
          "data": {
            "text/html": [
              "<div>\n",
              "<style scoped>\n",
              "    .dataframe tbody tr th:only-of-type {\n",
              "        vertical-align: middle;\n",
              "    }\n",
              "\n",
              "    .dataframe tbody tr th {\n",
              "        vertical-align: top;\n",
              "    }\n",
              "\n",
              "    .dataframe thead th {\n",
              "        text-align: right;\n",
              "    }\n",
              "</style>\n",
              "<table border=\"1\" class=\"dataframe\">\n",
              "  <thead>\n",
              "    <tr style=\"text-align: right;\">\n",
              "      <th></th>\n",
              "      <th>0</th>\n",
              "      <th>1</th>\n",
              "    </tr>\n",
              "  </thead>\n",
              "  <tbody>\n",
              "    <tr>\n",
              "      <th>{}</th>\n",
              "      <td>{}</td>\n",
              "      <td>{}</td>\n",
              "    </tr>\n",
              "    <tr>\n",
              "      <th>→*{q0}</th>\n",
              "      <td>{q2}</td>\n",
              "      <td>{q1}</td>\n",
              "    </tr>\n",
              "    <tr>\n",
              "      <th>*{q0,q2}</th>\n",
              "      <td>{q2}</td>\n",
              "      <td>{q1}</td>\n",
              "    </tr>\n",
              "    <tr>\n",
              "      <th>{q1}</th>\n",
              "      <td>*{q0,q2}</td>\n",
              "      <td>{q2}</td>\n",
              "    </tr>\n",
              "    <tr>\n",
              "      <th>{q2}</th>\n",
              "      <td>{}</td>\n",
              "      <td>{}</td>\n",
              "    </tr>\n",
              "  </tbody>\n",
              "</table>\n",
              "</div>"
            ],
            "text/plain": [
              "                 0     1\n",
              "{}              {}    {}\n",
              "→*{q0}        {q2}  {q1}\n",
              "*{q0,q2}      {q2}  {q1}\n",
              "{q1}      *{q0,q2}  {q2}\n",
              "{q2}            {}    {}"
            ]
          },
          "metadata": {},
          "execution_count": 12
        }
      ]
    },
    {
      "cell_type": "code",
      "metadata": {
        "colab": {
          "base_uri": "https://localhost:8080/",
          "height": 283
        },
        "id": "lN2FqBsMiZSE",
        "outputId": "6427612c-3896-4ee3-d3d2-0205a9bb927f"
      },
      "source": [
        "dfa2.show_diagram()"
      ],
      "execution_count": null,
      "outputs": [
        {
          "output_type": "execute_result",
          "data": {
            "text/plain": [
              "<graphviz.dot.Digraph at 0x7febb824b5d0>"
            ],
            "image/svg+xml": "<?xml version=\"1.0\" encoding=\"UTF-8\" standalone=\"no\"?>\n<!DOCTYPE svg PUBLIC \"-//W3C//DTD SVG 1.1//EN\"\n \"http://www.w3.org/Graphics/SVG/1.1/DTD/svg11.dtd\">\n<!-- Generated by graphviz version 2.40.1 (20161225.0304)\n -->\n<!-- Title: %3 Pages: 1 -->\n<svg width=\"570pt\" height=\"196pt\"\n viewBox=\"0.00 0.00 570.27 195.84\" xmlns=\"http://www.w3.org/2000/svg\" xmlns:xlink=\"http://www.w3.org/1999/xlink\">\n<g id=\"graph0\" class=\"graph\" transform=\"scale(1 1) rotate(0) translate(4 191.8437)\">\n<title>%3</title>\n<polygon fill=\"#ffffff\" stroke=\"transparent\" points=\"-4,4 -4,-191.8437 566.2736,-191.8437 566.2736,4 -4,4\"/>\n<!-- Initial -->\n<g id=\"node1\" class=\"node\">\n<title>Initial</title>\n<ellipse fill=\"#000000\" stroke=\"#000000\" cx=\"1.8\" cy=\"-33.2474\" rx=\"1.8\" ry=\"1.8\"/>\n</g>\n<!-- {q0} -->\n<g id=\"node3\" class=\"node\">\n<title>{q0}</title>\n<ellipse fill=\"none\" stroke=\"#000000\" cx=\"73.8474\" cy=\"-33.2474\" rx=\"29.4667\" ry=\"29.4667\"/>\n<ellipse fill=\"none\" stroke=\"#000000\" cx=\"73.8474\" cy=\"-33.2474\" rx=\"33.4967\" ry=\"33.4967\"/>\n<text text-anchor=\"middle\" x=\"73.8474\" y=\"-29.5474\" font-family=\"Times,serif\" font-size=\"14.00\" fill=\"#000000\">{q0}</text>\n</g>\n<!-- Initial&#45;&gt;{q0} -->\n<g id=\"edge1\" class=\"edge\">\n<title>Initial&#45;&gt;{q0}</title>\n<path fill=\"none\" stroke=\"#000000\" d=\"M3.8785,-33.2474C8.3776,-33.2474 19.5989,-33.2474 31.7694,-33.2474\"/>\n<polygon fill=\"#000000\" stroke=\"#000000\" points=\"31.7758,-36.2225 40.2758,-33.2474 31.7757,-30.2725 31.7758,-36.2225\"/>\n</g>\n<!-- {q0,q2} -->\n<g id=\"node2\" class=\"node\">\n<title>{q0,q2}</title>\n<ellipse fill=\"none\" stroke=\"#000000\" cx=\"315.1859\" cy=\"-142.2474\" rx=\"41.6844\" ry=\"41.6844\"/>\n<ellipse fill=\"none\" stroke=\"#000000\" cx=\"315.1859\" cy=\"-142.2474\" rx=\"45.6928\" ry=\"45.6928\"/>\n<text text-anchor=\"middle\" x=\"315.1859\" y=\"-138.5474\" font-family=\"Times,serif\" font-size=\"14.00\" fill=\"#000000\">{q0,q2}</text>\n</g>\n<!-- {q1} -->\n<g id=\"node4\" class=\"node\">\n<title>{q1}</title>\n<ellipse fill=\"none\" stroke=\"#000000\" cx=\"188.3422\" cy=\"-85.2474\" rx=\"29.4969\" ry=\"29.4969\"/>\n<text text-anchor=\"middle\" x=\"188.3422\" y=\"-81.5474\" font-family=\"Times,serif\" font-size=\"14.00\" fill=\"#000000\">{q1}</text>\n</g>\n<!-- {q0,q2}&#45;&gt;{q1} -->\n<g id=\"edge8\" class=\"edge\">\n<title>{q0,q2}&#45;&gt;{q1}</title>\n<path fill=\"none\" stroke=\"#000000\" d=\"M278.8776,-114.3024C270.2799,-108.6652 260.8947,-103.2496 251.5896,-99.2474 243.5313,-95.7815 234.512,-93.1279 225.8654,-91.1135\"/>\n<polygon fill=\"#000000\" stroke=\"#000000\" points=\"226.3261,-88.1699 217.3924,-89.3056 225.0844,-93.9889 226.3261,-88.1699\"/>\n<text text-anchor=\"middle\" x=\"243.5896\" y=\"-103.0474\" font-family=\"Times,serif\" font-size=\"14.00\" fill=\"#000000\"> 1 </text>\n</g>\n<!-- {q2} -->\n<g id=\"node5\" class=\"node\">\n<title>{q2}</title>\n<ellipse fill=\"none\" stroke=\"#000000\" cx=\"442.0296\" cy=\"-63.2474\" rx=\"29.4969\" ry=\"29.4969\"/>\n<text text-anchor=\"middle\" x=\"442.0296\" y=\"-59.5474\" font-family=\"Times,serif\" font-size=\"14.00\" fill=\"#000000\">{q2}</text>\n</g>\n<!-- {q0,q2}&#45;&gt;{q2} -->\n<g id=\"edge9\" class=\"edge\">\n<title>{q0,q2}&#45;&gt;{q2}</title>\n<path fill=\"none\" stroke=\"#000000\" d=\"M353.9325,-118.1155C371.7492,-107.019 392.644,-94.0054 409.612,-83.4376\"/>\n<polygon fill=\"#000000\" stroke=\"#000000\" points=\"411.4643,-85.7888 417.1066,-78.7698 408.3187,-80.7382 411.4643,-85.7888\"/>\n<text text-anchor=\"middle\" x=\"386.7822\" y=\"-104.0474\" font-family=\"Times,serif\" font-size=\"14.00\" fill=\"#000000\"> 0 </text>\n</g>\n<!-- {q0}&#45;&gt;{q1} -->\n<g id=\"edge2\" class=\"edge\">\n<title>{q0}&#45;&gt;{q1}</title>\n<path fill=\"none\" stroke=\"#000000\" d=\"M104.2293,-47.0459C119.3487,-53.9127 137.7013,-62.2479 153.4008,-69.3781\"/>\n<polygon fill=\"#000000\" stroke=\"#000000\" points=\"152.3682,-72.1765 161.3377,-72.9828 154.8287,-66.7591 152.3682,-72.1765\"/>\n<text text-anchor=\"middle\" x=\"133.0948\" y=\"-67.0474\" font-family=\"Times,serif\" font-size=\"14.00\" fill=\"#000000\"> 1 </text>\n</g>\n<!-- {q0}&#45;&gt;{q2} -->\n<g id=\"edge3\" class=\"edge\">\n<title>{q0}&#45;&gt;{q2}</title>\n<path fill=\"none\" stroke=\"#000000\" d=\"M107.1705,-35.9626C175.5814,-41.5368 331.5056,-54.2418 403.8506,-60.1365\"/>\n<polygon fill=\"#000000\" stroke=\"#000000\" points=\"403.9476,-63.1292 412.6612,-60.8544 404.4309,-57.1989 403.9476,-63.1292\"/>\n<text text-anchor=\"middle\" x=\"243.5896\" y=\"-52.0474\" font-family=\"Times,serif\" font-size=\"14.00\" fill=\"#000000\"> 0 </text>\n</g>\n<!-- {q1}&#45;&gt;{q0,q2} -->\n<g id=\"edge5\" class=\"edge\">\n<title>{q1}&#45;&gt;{q0,q2}</title>\n<path fill=\"none\" stroke=\"#000000\" d=\"M211.4708,-103.5823C218.8744,-108.8421 227.3062,-114.2331 235.5896,-118.2474 243.9428,-122.2955 253.1225,-125.8244 262.1862,-128.8394\"/>\n<polygon fill=\"#000000\" stroke=\"#000000\" points=\"261.4486,-131.7265 270.4504,-131.464 263.2496,-126.0557 261.4486,-131.7265\"/>\n<text text-anchor=\"middle\" x=\"243.5896\" y=\"-128.0474\" font-family=\"Times,serif\" font-size=\"14.00\" fill=\"#000000\"> 0 </text>\n</g>\n<!-- {q1}&#45;&gt;{q2} -->\n<g id=\"edge4\" class=\"edge\">\n<title>{q1}&#45;&gt;{q2}</title>\n<path fill=\"none\" stroke=\"#000000\" d=\"M217.1965,-79.8636C232.6782,-77.1692 252.1167,-74.0959 269.5896,-72.2474 315.5651,-67.3834 368.7273,-65.1136 403.7327,-64.0775\"/>\n<polygon fill=\"#000000\" stroke=\"#000000\" points=\"404.2503,-67.0394 412.664,-63.8284 404.0843,-61.0917 404.2503,-67.0394\"/>\n<text text-anchor=\"middle\" x=\"315.1859\" y=\"-76.0474\" font-family=\"Times,serif\" font-size=\"14.00\" fill=\"#000000\"> 1 </text>\n</g>\n<!-- {} -->\n<g id=\"node6\" class=\"node\">\n<title>{}</title>\n<ellipse fill=\"none\" stroke=\"#000000\" cx=\"542.7753\" cy=\"-63.2474\" rx=\"19.4965\" ry=\"19.4965\"/>\n<text text-anchor=\"middle\" x=\"542.7753\" y=\"-59.5474\" font-family=\"Times,serif\" font-size=\"14.00\" fill=\"#000000\">{}</text>\n</g>\n<!-- {q2}&#45;&gt;{} -->\n<g id=\"edge6\" class=\"edge\">\n<title>{q2}&#45;&gt;{}</title>\n<path fill=\"none\" stroke=\"#000000\" d=\"M471.4403,-63.2474C484.9364,-63.2474 500.876,-63.2474 514.261,-63.2474\"/>\n<polygon fill=\"#000000\" stroke=\"#000000\" points=\"514.558,-66.2225 523.058,-63.2474 514.558,-60.2725 514.558,-66.2225\"/>\n<text text-anchor=\"middle\" x=\"497.277\" y=\"-67.0474\" font-family=\"Times,serif\" font-size=\"14.00\" fill=\"#000000\"> 1 </text>\n</g>\n<!-- {q2}&#45;&gt;{} -->\n<g id=\"edge7\" class=\"edge\">\n<title>{q2}&#45;&gt;{}</title>\n<path fill=\"none\" stroke=\"#000000\" d=\"M467.6965,-49.1433C479.1203,-44.5276 492.7874,-41.2638 505.277,-44.2474 509.6891,-45.3014 514.1693,-46.9636 518.4243,-48.8766\"/>\n<polygon fill=\"#000000\" stroke=\"#000000\" points=\"517.317,-51.6485 526.2525,-52.7704 519.9669,-46.3212 517.317,-51.6485\"/>\n<text text-anchor=\"middle\" x=\"497.277\" y=\"-48.0474\" font-family=\"Times,serif\" font-size=\"14.00\" fill=\"#000000\"> 0 </text>\n</g>\n<!-- {}&#45;&gt;{} -->\n<g id=\"edge10\" class=\"edge\">\n<title>{}&#45;&gt;{}</title>\n<path fill=\"none\" stroke=\"#000000\" d=\"M538.7722,-82.541C538.2183,-92.163 539.5527,-100.7457 542.7753,-100.7457 544.9405,-100.7457 546.2534,-96.8713 546.7138,-91.4105\"/>\n<polygon fill=\"#000000\" stroke=\"#000000\" points=\"549.6913,-91.0625 546.7785,-82.541 543.7415,-91.0191 549.6913,-91.0625\"/>\n<text text-anchor=\"middle\" x=\"542.7753\" y=\"-104.5457\" font-family=\"Times,serif\" font-size=\"14.00\" fill=\"#000000\"> 1 </text>\n</g>\n<!-- {}&#45;&gt;{} -->\n<g id=\"edge11\" class=\"edge\">\n<title>{}&#45;&gt;{}</title>\n<path fill=\"none\" stroke=\"#000000\" d=\"M536.1613,-81.7245C532.6214,-99.4237 534.8261,-118.7457 542.7753,-118.7457 549.4204,-118.7457 552.0512,-105.2436 550.6677,-90.4743\"/>\n<polygon fill=\"#000000\" stroke=\"#000000\" points=\"553.562,-89.705 549.3893,-81.7245 547.6745,-90.5653 553.562,-89.705\"/>\n<text text-anchor=\"middle\" x=\"542.7753\" y=\"-122.5457\" font-family=\"Times,serif\" font-size=\"14.00\" fill=\"#000000\"> 0 </text>\n</g>\n</g>\n</svg>\n"
          },
          "metadata": {},
          "execution_count": 13
        }
      ]
    },
    {
      "cell_type": "code",
      "metadata": {
        "colab": {
          "base_uri": "https://localhost:8080/",
          "height": 264
        },
        "id": "S7yLI1sooH6U",
        "outputId": "81248e12-16a7-4164-9ee1-4ede9724ca60"
      },
      "source": [
        "minimal_dfa = VisualDFA.minify(dfa2)\n",
        "minimal_dfa.show_diagram()"
      ],
      "execution_count": null,
      "outputs": [
        {
          "output_type": "execute_result",
          "data": {
            "text/plain": [
              "<graphviz.dot.Digraph at 0x7febb826a3d0>"
            ],
            "image/svg+xml": "<?xml version=\"1.0\" encoding=\"UTF-8\" standalone=\"no\"?>\n<!DOCTYPE svg PUBLIC \"-//W3C//DTD SVG 1.1//EN\"\n \"http://www.w3.org/Graphics/SVG/1.1/DTD/svg11.dtd\">\n<!-- Generated by graphviz version 2.40.1 (20161225.0304)\n -->\n<!-- Title: %3 Pages: 1 -->\n<svg width=\"461pt\" height=\"182pt\"\n viewBox=\"0.00 0.00 460.87 181.89\" xmlns=\"http://www.w3.org/2000/svg\" xmlns:xlink=\"http://www.w3.org/1999/xlink\">\n<g id=\"graph0\" class=\"graph\" transform=\"scale(1 1) rotate(0) translate(4 177.8893)\">\n<title>%3</title>\n<polygon fill=\"#ffffff\" stroke=\"transparent\" points=\"-4,4 -4,-177.8893 456.8734,-177.8893 456.8734,4 -4,4\"/>\n<!-- Initial -->\n<g id=\"node1\" class=\"node\">\n<title>Initial</title>\n<ellipse fill=\"#000000\" stroke=\"#000000\" cx=\"1.8\" cy=\"-75.4937\" rx=\"1.8\" ry=\"1.8\"/>\n</g>\n<!-- {{q0,q2},{q0}} -->\n<g id=\"node3\" class=\"node\">\n<title>{{q0,q2},{q0}}</title>\n<ellipse fill=\"none\" stroke=\"#000000\" cx=\"116.0937\" cy=\"-75.4937\" rx=\"71.4876\" ry=\"71.4876\"/>\n<ellipse fill=\"none\" stroke=\"#000000\" cx=\"116.0937\" cy=\"-75.4937\" rx=\"75.4873\" ry=\"75.4873\"/>\n<text text-anchor=\"middle\" x=\"116.0937\" y=\"-71.7937\" font-family=\"Times,serif\" font-size=\"14.00\" fill=\"#000000\">{{q0,q2},{q0}}</text>\n</g>\n<!-- Initial&#45;&gt;{{q0,q2},{q0}} -->\n<g id=\"edge1\" class=\"edge\">\n<title>Initial&#45;&gt;{{q0,q2},{q0}}</title>\n<path fill=\"none\" stroke=\"#000000\" d=\"M3.7838,-75.4937C7.9905,-75.4937 18.4936,-75.4937 31.4794,-75.4937\"/>\n<polygon fill=\"#000000\" stroke=\"#000000\" points=\"31.8303,-78.4688 40.3303,-75.4937 31.8303,-72.5188 31.8303,-78.4688\"/>\n</g>\n<!-- {q1} -->\n<g id=\"node2\" class=\"node\">\n<title>{q1}</title>\n<ellipse fill=\"none\" stroke=\"#000000\" cx=\"272.8347\" cy=\"-104.4937\" rx=\"29.4969\" ry=\"29.4969\"/>\n<text text-anchor=\"middle\" x=\"272.8347\" y=\"-100.7937\" font-family=\"Times,serif\" font-size=\"14.00\" fill=\"#000000\">{q1}</text>\n</g>\n<!-- {q1}&#45;&gt;{{q0,q2},{q0}} -->\n<g id=\"edge3\" class=\"edge\">\n<title>{q1}&#45;&gt;{{q0,q2},{q0}}</title>\n<path fill=\"none\" stroke=\"#000000\" d=\"M248.9399,-87.0578C241.778,-82.7615 233.6694,-78.7483 225.5873,-76.4937 217.4847,-74.2333 208.9118,-72.7244 200.2733,-71.7748\"/>\n<polygon fill=\"#000000\" stroke=\"#000000\" points=\"200.3583,-68.7957 191.6278,-71.0046 199.8302,-74.7222 200.3583,-68.7957\"/>\n<text text-anchor=\"middle\" x=\"217.5873\" y=\"-80.2937\" font-family=\"Times,serif\" font-size=\"14.00\" fill=\"#000000\"> 0 </text>\n</g>\n<!-- {{q2},{}} -->\n<g id=\"node4\" class=\"node\">\n<title>{{q2},{}}</title>\n<ellipse fill=\"none\" stroke=\"#000000\" cx=\"403.4777\" cy=\"-58.4937\" rx=\"49.2915\" ry=\"49.2915\"/>\n<text text-anchor=\"middle\" x=\"403.4777\" y=\"-54.7937\" font-family=\"Times,serif\" font-size=\"14.00\" fill=\"#000000\">{{q2},{}}</text>\n</g>\n<!-- {q1}&#45;&gt;{{q2},{}} -->\n<g id=\"edge2\" class=\"edge\">\n<title>{q1}&#45;&gt;{{q2},{}}</title>\n<path fill=\"none\" stroke=\"#000000\" d=\"M300.5407,-94.7382C314.5729,-89.7975 332.1181,-83.6197 348.7267,-77.7717\"/>\n<polygon fill=\"#000000\" stroke=\"#000000\" points=\"349.7558,-80.5635 356.7853,-74.9343 347.7797,-74.9512 349.7558,-80.5635\"/>\n<text text-anchor=\"middle\" x=\"328.0821\" y=\"-90.2937\" font-family=\"Times,serif\" font-size=\"14.00\" fill=\"#000000\"> 1 </text>\n</g>\n<!-- {{q0,q2},{q0}}&#45;&gt;{q1} -->\n<g id=\"edge4\" class=\"edge\">\n<title>{{q0,q2},{q0}}&#45;&gt;{q1}</title>\n<path fill=\"none\" stroke=\"#000000\" d=\"M190.3331,-89.2293C205.9111,-92.1115 221.7074,-95.0341 235.2507,-97.5399\"/>\n<polygon fill=\"#000000\" stroke=\"#000000\" points=\"234.901,-100.5006 243.8004,-99.1218 235.9835,-94.6499 234.901,-100.5006\"/>\n<text text-anchor=\"middle\" x=\"217.5873\" y=\"-98.2937\" font-family=\"Times,serif\" font-size=\"14.00\" fill=\"#000000\"> 1 </text>\n</g>\n<!-- {{q0,q2},{q0}}&#45;&gt;{{q2},{}} -->\n<g id=\"edge5\" class=\"edge\">\n<title>{{q0,q2},{q0}}&#45;&gt;{{q2},{}}</title>\n<path fill=\"none\" stroke=\"#000000\" d=\"M189.9223,-59.1871C207.4267,-55.9913 226.0953,-53.1257 243.5873,-51.4937 269.4726,-49.0785 276.0999,-50.5979 302.0821,-51.4937 316.1018,-51.977 331.1925,-52.8352 345.3369,-53.7889\"/>\n<polygon fill=\"#000000\" stroke=\"#000000\" points=\"345.3173,-56.7696 354.0035,-54.3925 345.7308,-50.834 345.3173,-56.7696\"/>\n<text text-anchor=\"middle\" x=\"272.8347\" y=\"-55.2937\" font-family=\"Times,serif\" font-size=\"14.00\" fill=\"#000000\"> 0 </text>\n</g>\n<!-- {{q2},{}}&#45;&gt;{{q2},{}} -->\n<g id=\"edge6\" class=\"edge\">\n<title>{{q2},{}}&#45;&gt;{{q2},{}}</title>\n<path fill=\"none\" stroke=\"#000000\" d=\"M396.7452,-107.564C397.4035,-118.1861 399.6477,-125.8893 403.4777,-125.8893 406.1708,-125.8893 408.0797,-122.0809 409.2047,-116.1273\"/>\n<polygon fill=\"#000000\" stroke=\"#000000\" points=\"412.1735,-116.353 410.2103,-107.564 406.2642,-115.659 412.1735,-116.353\"/>\n<text text-anchor=\"middle\" x=\"403.4777\" y=\"-129.6893\" font-family=\"Times,serif\" font-size=\"14.00\" fill=\"#000000\"> 1 </text>\n</g>\n<!-- {{q2},{}}&#45;&gt;{{q2},{}} -->\n<g id=\"edge7\" class=\"edge\">\n<title>{{q2},{}}&#45;&gt;{{q2},{}}</title>\n<path fill=\"none\" stroke=\"#000000\" d=\"M389.7459,-106.3464C388.711,-126.6189 393.2883,-143.8893 403.4777,-143.8893 412.1547,-143.8893 416.7619,-131.3655 417.2995,-115.1289\"/>\n<polygon fill=\"#000000\" stroke=\"#000000\" points=\"420.2715,-114.8155 417.2096,-106.3464 414.3218,-114.8764 420.2715,-114.8155\"/>\n<text text-anchor=\"middle\" x=\"403.4777\" y=\"-147.6893\" font-family=\"Times,serif\" font-size=\"14.00\" fill=\"#000000\"> 0 </text>\n</g>\n</g>\n</svg>\n"
          },
          "metadata": {},
          "execution_count": 14
        }
      ]
    }
  ]
}